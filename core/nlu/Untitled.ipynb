{
 "cells": [
  {
   "cell_type": "code",
   "execution_count": null,
   "metadata": {},
   "outputs": [],
   "source": [
    "data = 'intent_classificator/data/train'"
   ]
  },
  {
   "cell_type": "code",
   "execution_count": 7,
   "metadata": {},
   "outputs": [],
   "source": [
    "from pathlib import Path\n",
    "import os\n",
    "import pandas as pd"
   ]
  },
  {
   "cell_type": "code",
   "execution_count": 12,
   "metadata": {},
   "outputs": [],
   "source": [
    "def load(curdir):\n",
    "    print('Loading data...')\n",
    "    lines_train = Path(os.path.join(curdir, 'data/train')).read_text().strip().splitlines()\n",
    "    lines_valid = Path(os.path.join(curdir, 'data/valid')).read_text().strip().splitlines()\n",
    "    lines_test = Path(os.path.join(curdir, 'data/test')).read_text().strip().splitlines()\n",
    "\n",
    "    parsed = [parse_line(line) for line in lines_train]\n",
    "\n",
    "    df_train = pd.DataFrame([p for p in parsed if p is not None])\n",
    "    df_valid = pd.DataFrame([parse_line(line) for line in lines_valid])\n",
    "    df_test = pd.DataFrame([parse_line(line) for line in lines_test])\n",
    "\n",
    "    \n",
    "    return df_train, df_valid, df_test"
   ]
  },
  {
   "cell_type": "code",
   "execution_count": 13,
   "metadata": {},
   "outputs": [
    {
     "name": "stdout",
     "output_type": "stream",
     "text": [
      "Loading data...\n"
     ]
    }
   ],
   "source": [
    "df_train, df_valid, df_test = load('intent_classificator')"
   ]
  },
  {
   "cell_type": "code",
   "execution_count": 14,
   "metadata": {},
   "outputs": [
    {
     "data": {
      "text/html": [
       "<div>\n",
       "<style scoped>\n",
       "    .dataframe tbody tr th:only-of-type {\n",
       "        vertical-align: middle;\n",
       "    }\n",
       "\n",
       "    .dataframe tbody tr th {\n",
       "        vertical-align: top;\n",
       "    }\n",
       "\n",
       "    .dataframe thead th {\n",
       "        text-align: right;\n",
       "    }\n",
       "</style>\n",
       "<table border=\"1\" class=\"dataframe\">\n",
       "  <thead>\n",
       "    <tr style=\"text-align: right;\">\n",
       "      <th></th>\n",
       "      <th>intent_label</th>\n",
       "      <th>words</th>\n",
       "      <th>word_labels</th>\n",
       "      <th>length</th>\n",
       "    </tr>\n",
       "  </thead>\n",
       "  <tbody>\n",
       "    <tr>\n",
       "      <th>0</th>\n",
       "      <td>AddToPlaylist</td>\n",
       "      <td>Add Don and Sherri to my Meditate to Sounds of...</td>\n",
       "      <td>O B-entity_name I-entity_name I-entity_name O ...</td>\n",
       "      <td>12</td>\n",
       "    </tr>\n",
       "    <tr>\n",
       "      <th>1</th>\n",
       "      <td>AddToPlaylist</td>\n",
       "      <td>put United Abominations onto my rare groove pl...</td>\n",
       "      <td>O B-entity_name I-entity_name O B-playlist_own...</td>\n",
       "      <td>8</td>\n",
       "    </tr>\n",
       "    <tr>\n",
       "      <th>2</th>\n",
       "      <td>AddToPlaylist</td>\n",
       "      <td>add the tune by misato watanabe to the Trapeo ...</td>\n",
       "      <td>O O B-music_item O B-artist I-artist O O B-pla...</td>\n",
       "      <td>10</td>\n",
       "    </tr>\n",
       "    <tr>\n",
       "      <th>3</th>\n",
       "      <td>AddToPlaylist</td>\n",
       "      <td>add this artist to my this is miguel bosé play...</td>\n",
       "      <td>O O B-music_item O B-playlist_owner B-playlist...</td>\n",
       "      <td>10</td>\n",
       "    </tr>\n",
       "    <tr>\n",
       "      <th>4</th>\n",
       "      <td>AddToPlaylist</td>\n",
       "      <td>add heresy and the hotel choir to the evening ...</td>\n",
       "      <td>O B-entity_name I-entity_name I-entity_name I-...</td>\n",
       "      <td>11</td>\n",
       "    </tr>\n",
       "    <tr>\n",
       "      <th>...</th>\n",
       "      <td>...</td>\n",
       "      <td>...</td>\n",
       "      <td>...</td>\n",
       "      <td>...</td>\n",
       "    </tr>\n",
       "    <tr>\n",
       "      <th>13079</th>\n",
       "      <td>SearchScreeningEvent</td>\n",
       "      <td>find a Consolidated Theatres showing The Good ...</td>\n",
       "      <td>O O B-location_name I-location_name O B-movie_...</td>\n",
       "      <td>10</td>\n",
       "    </tr>\n",
       "    <tr>\n",
       "      <th>13080</th>\n",
       "      <td>SearchScreeningEvent</td>\n",
       "      <td>where can i see animated movies in the neighbo...</td>\n",
       "      <td>O O O O B-movie_type I-movie_type B-spatial_re...</td>\n",
       "      <td>9</td>\n",
       "    </tr>\n",
       "    <tr>\n",
       "      <th>13081</th>\n",
       "      <td>SearchScreeningEvent</td>\n",
       "      <td>Showtimes for animated movies in the area .</td>\n",
       "      <td>O O B-movie_type I-movie_type B-spatial_relati...</td>\n",
       "      <td>8</td>\n",
       "    </tr>\n",
       "    <tr>\n",
       "      <th>13082</th>\n",
       "      <td>SearchScreeningEvent</td>\n",
       "      <td>Which animated movies are playing at Megaplex ...</td>\n",
       "      <td>O B-movie_type I-movie_type O O O B-location_n...</td>\n",
       "      <td>11</td>\n",
       "    </tr>\n",
       "    <tr>\n",
       "      <th>13083</th>\n",
       "      <td>SearchScreeningEvent</td>\n",
       "      <td>What movie schedules start at sunset ?</td>\n",
       "      <td>O B-object_type I-object_type O O B-timeRange O</td>\n",
       "      <td>7</td>\n",
       "    </tr>\n",
       "  </tbody>\n",
       "</table>\n",
       "<p>13084 rows × 4 columns</p>\n",
       "</div>"
      ],
      "text/plain": [
       "               intent_label  \\\n",
       "0             AddToPlaylist   \n",
       "1             AddToPlaylist   \n",
       "2             AddToPlaylist   \n",
       "3             AddToPlaylist   \n",
       "4             AddToPlaylist   \n",
       "...                     ...   \n",
       "13079  SearchScreeningEvent   \n",
       "13080  SearchScreeningEvent   \n",
       "13081  SearchScreeningEvent   \n",
       "13082  SearchScreeningEvent   \n",
       "13083  SearchScreeningEvent   \n",
       "\n",
       "                                                   words  \\\n",
       "0      Add Don and Sherri to my Meditate to Sounds of...   \n",
       "1      put United Abominations onto my rare groove pl...   \n",
       "2      add the tune by misato watanabe to the Trapeo ...   \n",
       "3      add this artist to my this is miguel bosé play...   \n",
       "4      add heresy and the hotel choir to the evening ...   \n",
       "...                                                  ...   \n",
       "13079  find a Consolidated Theatres showing The Good ...   \n",
       "13080  where can i see animated movies in the neighbo...   \n",
       "13081        Showtimes for animated movies in the area .   \n",
       "13082  Which animated movies are playing at Megaplex ...   \n",
       "13083             What movie schedules start at sunset ?   \n",
       "\n",
       "                                             word_labels  length  \n",
       "0      O B-entity_name I-entity_name I-entity_name O ...      12  \n",
       "1      O B-entity_name I-entity_name O B-playlist_own...       8  \n",
       "2      O O B-music_item O B-artist I-artist O O B-pla...      10  \n",
       "3      O O B-music_item O B-playlist_owner B-playlist...      10  \n",
       "4      O B-entity_name I-entity_name I-entity_name I-...      11  \n",
       "...                                                  ...     ...  \n",
       "13079  O O B-location_name I-location_name O B-movie_...      10  \n",
       "13080  O O O O B-movie_type I-movie_type B-spatial_re...       9  \n",
       "13081  O O B-movie_type I-movie_type B-spatial_relati...       8  \n",
       "13082  O B-movie_type I-movie_type O O O B-location_n...      11  \n",
       "13083    O B-object_type I-object_type O O B-timeRange O       7  \n",
       "\n",
       "[13084 rows x 4 columns]"
      ]
     },
     "execution_count": 14,
     "metadata": {},
     "output_type": "execute_result"
    }
   ],
   "source": [
    "df_train"
   ]
  },
  {
   "cell_type": "code",
   "execution_count": 15,
   "metadata": {},
   "outputs": [],
   "source": [
    "df_train.to_csv('train.csv')\n",
    "df_valid.to_csv('valid.csv')\n",
    "df_test.to_csv('test.csv')"
   ]
  }
 ],
 "metadata": {
  "kernelspec": {
   "display_name": "ml",
   "language": "python",
   "name": "ml"
  },
  "language_info": {
   "codemirror_mode": {
    "name": "ipython",
    "version": 3
   },
   "file_extension": ".py",
   "mimetype": "text/x-python",
   "name": "python",
   "nbconvert_exporter": "python",
   "pygments_lexer": "ipython3",
   "version": "3.7.7"
  }
 },
 "nbformat": 4,
 "nbformat_minor": 4
}
