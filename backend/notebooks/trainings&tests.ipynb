{
 "cells": [
  {
   "cell_type": "code",
   "execution_count": 1,
   "metadata": {},
   "outputs": [],
   "source": [
    "import os, sys; sys.path.append(os.path.dirname(os.getcwd())); ROOT_DIR = '/home/h4zzkr/lab/delOS/backend'\n",
    "sys.path.append('/home/h4zzkr/lab/delOS')\n",
    "import numpy as np\n",
    "import pandas as pd\n",
    "import re\n",
    "datapath = os.path.join(ROOT_DIR, 'data/nlu_data/custom')"
   ]
  },
  {
   "cell_type": "code",
   "execution_count": 2,
   "metadata": {},
   "outputs": [],
   "source": [
    "import os\n",
    "import datetime\n",
    "import numpy as np\n",
    "import tensorflow as tf\n",
    "from pathlib import Path\n",
    "from tensorflow.keras.optimizers import Adam\n",
    "from backend.backbones.nlu_unit import ModuleUnit\n",
    "from backend.functional import tf_set_memory_growth\n",
    "from tensorflow.keras.callbacks import ModelCheckpoint\n",
    "from tensorflow.keras.losses import SparseCategoricalCrossentropy\n",
    "from tensorflow.keras.metrics import SparseCategoricalAccuracy\n",
    "from backend.config import ROOT_DIR, CLASSIFIER_DIR, NLU_CONFIG, MODELS_FIT_PARAMS\n",
    "from backend.core.nlu.intent_classifier.dense_model import DenseClassifierModel\n",
    "from backend.core.nlu.tools.utils import IntentsDatasetLoader as DatasetLoader\n",
    "from backend.functional import dump, jsonread\n",
    "from backend.core.nlu.featurizers.transformer_featurizer import SentenceFeaturizer\n",
    "from backend.core.nlu.tools.utils import encode_dataset, encode_token_labels, load_tags_map, load_map\n",
    "\n",
    "from backend.core.nlu.intent_classifier.classifier import IntentClassifier\n",
    "tf_set_memory_growth()"
   ]
  },
  {
   "cell_type": "code",
   "execution_count": null,
   "metadata": {},
   "outputs": [],
   "source": [
    "%cd ..\n",
    "!ls"
   ]
  },
  {
   "cell_type": "code",
   "execution_count": 3,
   "metadata": {},
   "outputs": [],
   "source": [
    "obj = IntentClassifier()\n",
    "# obj.fit('data/nlu_data/custom')\n",
    "# d = DatasetLoader('data/nlu_data/custom')\n",
    "# df_train, df_valid, intent2id, id2intent, tag2id, id2tag = d.load_prepare_dataset()\n",
    "obj.load()\n",
    "# ft = SentenceFeaturizer()\n",
    "# while True:\n",
    "#     inp_str = input()\n",
    "#     inp = ft.encode(inp_str)\n",
    "#     in_id, out = obj.classify(inp)\n",
    "#     print(id2intent[in_id])"
   ]
  },
  {
   "cell_type": "code",
   "execution_count": 4,
   "metadata": {},
   "outputs": [
    {
     "name": "stdout",
     "output_type": "stream",
     "text": [
      "Loading data...\n",
      "WARNING:tensorflow:Unresolved object in checkpoint: (root).optimizer\n",
      "WARNING:tensorflow:Unresolved object in checkpoint: (root).intent_classifier.kernel\n",
      "WARNING:tensorflow:Unresolved object in checkpoint: (root).intent_classifier.bias\n",
      "WARNING:tensorflow:Unresolved object in checkpoint: (root).optimizer.iter\n",
      "WARNING:tensorflow:Unresolved object in checkpoint: (root).optimizer.beta_1\n",
      "WARNING:tensorflow:Unresolved object in checkpoint: (root).optimizer.beta_2\n",
      "WARNING:tensorflow:Unresolved object in checkpoint: (root).optimizer.decay\n",
      "WARNING:tensorflow:Unresolved object in checkpoint: (root).optimizer.learning_rate\n",
      "WARNING:tensorflow:Unresolved object in checkpoint: (root).optimizer's state 'm' for (root).intent_classifier.kernel\n",
      "WARNING:tensorflow:Unresolved object in checkpoint: (root).optimizer's state 'm' for (root).intent_classifier.bias\n",
      "WARNING:tensorflow:Unresolved object in checkpoint: (root).optimizer's state 'v' for (root).intent_classifier.kernel\n",
      "WARNING:tensorflow:Unresolved object in checkpoint: (root).optimizer's state 'v' for (root).intent_classifier.bias\n",
      "WARNING:tensorflow:A checkpoint was restored (e.g. tf.train.Checkpoint.restore or tf.keras.Model.load_weights) but not all checkpointed values were used. See above for specific issues. Use expect_partial() on the load status object, e.g. tf.train.Checkpoint.restore(...).expect_partial(), to silence these warnings, or use assert_consumed() to make the check explicit. See https://www.tensorflow.org/guide/checkpoint#loading_mechanics for details.\n"
     ]
    },
    {
     "name": "stdin",
     "output_type": "stream",
     "text": [
      " light off please\n"
     ]
    },
    {
     "name": "stdout",
     "output_type": "stream",
     "text": [
      "turnLightOff\n"
     ]
    },
    {
     "name": "stdin",
     "output_type": "stream",
     "text": [
      " on the light in the kitchen\n"
     ]
    },
    {
     "name": "stdout",
     "output_type": "stream",
     "text": [
      "turnLightOn\n"
     ]
    },
    {
     "name": "stdin",
     "output_type": "stream",
     "text": [
      " enable the illumintation in the bedroom\n"
     ]
    },
    {
     "name": "stdout",
     "output_type": "stream",
     "text": [
      "turnLightOn\n"
     ]
    },
    {
     "name": "stdin",
     "output_type": "stream",
     "text": [
      " shutdown illumination off please\n"
     ]
    },
    {
     "name": "stdout",
     "output_type": "stream",
     "text": [
      "turnLightOff\n"
     ]
    },
    {
     "name": "stdin",
     "output_type": "stream",
     "text": [
      " shutdown bloom off please\n"
     ]
    },
    {
     "name": "stdout",
     "output_type": "stream",
     "text": [
      "turnLightOff\n"
     ]
    },
    {
     "name": "stdin",
     "output_type": "stream",
     "text": [
      " please turn down light in the my kitchen\n"
     ]
    },
    {
     "name": "stdout",
     "output_type": "stream",
     "text": [
      "turnLightOff\n"
     ]
    },
    {
     "name": "stdin",
     "output_type": "stream",
     "text": [
      " make dark here\n"
     ]
    },
    {
     "name": "stdout",
     "output_type": "stream",
     "text": [
      "turnLightOn\n"
     ]
    },
    {
     "name": "stdin",
     "output_type": "stream",
     "text": [
      " it is dark here\n"
     ]
    },
    {
     "name": "stdout",
     "output_type": "stream",
     "text": [
      "turnLightOn\n"
     ]
    },
    {
     "name": "stdin",
     "output_type": "stream",
     "text": [
      " make light here\n"
     ]
    },
    {
     "name": "stdout",
     "output_type": "stream",
     "text": [
      "turnLightOn\n"
     ]
    },
    {
     "name": "stdin",
     "output_type": "stream",
     "text": [
      " shutdown light\n"
     ]
    },
    {
     "name": "stdout",
     "output_type": "stream",
     "text": [
      "turnLightOff\n"
     ]
    },
    {
     "name": "stdin",
     "output_type": "stream",
     "text": [
      " enable light\n"
     ]
    },
    {
     "name": "stdout",
     "output_type": "stream",
     "text": [
      "turnLightOn\n"
     ]
    },
    {
     "name": "stdin",
     "output_type": "stream",
     "text": [
      " please some light\n"
     ]
    },
    {
     "name": "stdout",
     "output_type": "stream",
     "text": [
      "turnLightOn\n"
     ]
    },
    {
     "name": "stdin",
     "output_type": "stream",
     "text": [
      " kill the light\n"
     ]
    },
    {
     "name": "stdout",
     "output_type": "stream",
     "text": [
      "turnLightOff\n"
     ]
    },
    {
     "ename": "KeyboardInterrupt",
     "evalue": "Interrupted by user",
     "output_type": "error",
     "traceback": [
      "\u001b[0;31m---------------------------------------------------------------------------\u001b[0m",
      "\u001b[0;31mKeyboardInterrupt\u001b[0m                         Traceback (most recent call last)",
      "\u001b[0;32m<ipython-input-4-a91809bcc8a7>\u001b[0m in \u001b[0;36m<module>\u001b[0;34m\u001b[0m\n\u001b[0;32m----> 1\u001b[0;31m \u001b[0mobj\u001b[0m\u001b[0;34m.\u001b[0m\u001b[0mtest_classifier\u001b[0m\u001b[0;34m(\u001b[0m\u001b[0;34m)\u001b[0m\u001b[0;34m\u001b[0m\u001b[0;34m\u001b[0m\u001b[0m\n\u001b[0m",
      "\u001b[0;32m~/lab/delOS/backend/core/nlu/intent_classifier/classifier.py\u001b[0m in \u001b[0;36mtest_classifier\u001b[0;34m(self, dataset)\u001b[0m\n\u001b[1;32m    182\u001b[0m         \u001b[0mself\u001b[0m\u001b[0;34m.\u001b[0m\u001b[0mload\u001b[0m\u001b[0;34m(\u001b[0m\u001b[0;34m)\u001b[0m\u001b[0;34m\u001b[0m\u001b[0;34m\u001b[0m\u001b[0m\n\u001b[1;32m    183\u001b[0m         \u001b[0mft\u001b[0m \u001b[0;34m=\u001b[0m \u001b[0mSentenceFeaturizer\u001b[0m\u001b[0;34m(\u001b[0m\u001b[0;34m)\u001b[0m\u001b[0;34m\u001b[0m\u001b[0;34m\u001b[0m\u001b[0m\n\u001b[0;32m--> 184\u001b[0;31m         \u001b[0;32mwhile\u001b[0m \u001b[0;32mTrue\u001b[0m\u001b[0;34m:\u001b[0m\u001b[0;34m\u001b[0m\u001b[0;34m\u001b[0m\u001b[0m\n\u001b[0m\u001b[1;32m    185\u001b[0m             \u001b[0minp_str\u001b[0m \u001b[0;34m=\u001b[0m \u001b[0minput\u001b[0m\u001b[0;34m(\u001b[0m\u001b[0;34m)\u001b[0m\u001b[0;34m\u001b[0m\u001b[0;34m\u001b[0m\u001b[0m\n\u001b[1;32m    186\u001b[0m             \u001b[0minp\u001b[0m \u001b[0;34m=\u001b[0m \u001b[0mft\u001b[0m\u001b[0;34m.\u001b[0m\u001b[0mencode\u001b[0m\u001b[0;34m(\u001b[0m\u001b[0minp_str\u001b[0m\u001b[0;34m)\u001b[0m\u001b[0;34m\u001b[0m\u001b[0;34m\u001b[0m\u001b[0m\n",
      "\u001b[0;32m~/anaconda3/envs/ml/lib/python3.7/site-packages/ipykernel/kernelbase.py\u001b[0m in \u001b[0;36mraw_input\u001b[0;34m(self, prompt)\u001b[0m\n\u001b[1;32m    861\u001b[0m             \u001b[0mself\u001b[0m\u001b[0;34m.\u001b[0m\u001b[0m_parent_ident\u001b[0m\u001b[0;34m,\u001b[0m\u001b[0;34m\u001b[0m\u001b[0;34m\u001b[0m\u001b[0m\n\u001b[1;32m    862\u001b[0m             \u001b[0mself\u001b[0m\u001b[0;34m.\u001b[0m\u001b[0m_parent_header\u001b[0m\u001b[0;34m,\u001b[0m\u001b[0;34m\u001b[0m\u001b[0;34m\u001b[0m\u001b[0m\n\u001b[0;32m--> 863\u001b[0;31m             \u001b[0mpassword\u001b[0m\u001b[0;34m=\u001b[0m\u001b[0;32mFalse\u001b[0m\u001b[0;34m,\u001b[0m\u001b[0;34m\u001b[0m\u001b[0;34m\u001b[0m\u001b[0m\n\u001b[0m\u001b[1;32m    864\u001b[0m         )\n\u001b[1;32m    865\u001b[0m \u001b[0;34m\u001b[0m\u001b[0m\n",
      "\u001b[0;32m~/anaconda3/envs/ml/lib/python3.7/site-packages/ipykernel/kernelbase.py\u001b[0m in \u001b[0;36m_input_request\u001b[0;34m(self, prompt, ident, parent, password)\u001b[0m\n\u001b[1;32m    902\u001b[0m             \u001b[0;32mexcept\u001b[0m \u001b[0mKeyboardInterrupt\u001b[0m\u001b[0;34m:\u001b[0m\u001b[0;34m\u001b[0m\u001b[0;34m\u001b[0m\u001b[0m\n\u001b[1;32m    903\u001b[0m                 \u001b[0;31m# re-raise KeyboardInterrupt, to truncate traceback\u001b[0m\u001b[0;34m\u001b[0m\u001b[0;34m\u001b[0m\u001b[0;34m\u001b[0m\u001b[0m\n\u001b[0;32m--> 904\u001b[0;31m                 \u001b[0;32mraise\u001b[0m \u001b[0mKeyboardInterrupt\u001b[0m\u001b[0;34m(\u001b[0m\u001b[0;34m\"Interrupted by user\"\u001b[0m\u001b[0;34m)\u001b[0m \u001b[0;32mfrom\u001b[0m \u001b[0;32mNone\u001b[0m\u001b[0;34m\u001b[0m\u001b[0;34m\u001b[0m\u001b[0m\n\u001b[0m\u001b[1;32m    905\u001b[0m             \u001b[0;32mexcept\u001b[0m \u001b[0mException\u001b[0m \u001b[0;32mas\u001b[0m \u001b[0me\u001b[0m\u001b[0;34m:\u001b[0m\u001b[0;34m\u001b[0m\u001b[0;34m\u001b[0m\u001b[0m\n\u001b[1;32m    906\u001b[0m                 \u001b[0mself\u001b[0m\u001b[0;34m.\u001b[0m\u001b[0mlog\u001b[0m\u001b[0;34m.\u001b[0m\u001b[0mwarning\u001b[0m\u001b[0;34m(\u001b[0m\u001b[0;34m\"Invalid Message:\"\u001b[0m\u001b[0;34m,\u001b[0m \u001b[0mexc_info\u001b[0m\u001b[0;34m=\u001b[0m\u001b[0;32mTrue\u001b[0m\u001b[0;34m)\u001b[0m\u001b[0;34m\u001b[0m\u001b[0;34m\u001b[0m\u001b[0m\n",
      "\u001b[0;31mKeyboardInterrupt\u001b[0m: Interrupted by user"
     ]
    }
   ],
   "source": [
    "obj.test_classifier() # аугментации - збс"
   ]
  },
  {
   "cell_type": "code",
   "execution_count": null,
   "metadata": {},
   "outputs": [],
   "source": [
    "import nlpaug.augmenter.char as nac\n",
    "import nlpaug.augmenter.word as naw\n",
    "import nlpaug.augmenter.sentence as nas\n",
    "import nlpaug.flow as naf\n",
    "\n",
    "from nlpaug.util import Action"
   ]
  },
  {
   "cell_type": "code",
   "execution_count": null,
   "metadata": {},
   "outputs": [],
   "source": [
    "text = 'switch off light in the kitchen'"
   ]
  },
  {
   "cell_type": "code",
   "execution_count": null,
   "metadata": {},
   "outputs": [],
   "source": [
    "class Aug:\n",
    "    def __init__(self, num_of_samples=3, swap=True):\n",
    "        self.num_of_samples = 3\n",
    "        self.swap = swap\n",
    "        self.build_augments()\n",
    "    \n",
    "    def build_augments(self):\n",
    "        self.augs = naf.Sequential([\n",
    "            naw.SynonymAug(aug_src='wordnet'),\n",
    "        #     naw.ContextualWordEmbsAug(model_path='bert-base-uncased', action=\"insert\"),\n",
    "        #     naw.RandomWordAug(action=\"swap\")\n",
    "        ])\n",
    "        \n",
    "    def augment(self, example):\n",
    "        augs = [self.augs.augment(example) for _ in range(self.num_of_samples)]\n",
    "        if self.swap:\n",
    "            swap_aug = naw.RandomWordAug(action=\"swap\")\n",
    "            augs_ = list(augs)\n",
    "            for i in augs_:\n",
    "                for _ in range(self.num_of_samples):\n",
    "                    swapped = swap_aug.augment(i)\n",
    "                    augs.append(swapped)\n",
    "        return augs\n",
    "    \n",
    "a = Aug()\n",
    "a.augment(text)"
   ]
  },
  {
   "cell_type": "code",
   "execution_count": null,
   "metadata": {},
   "outputs": [],
   "source": []
  },
  {
   "cell_type": "code",
   "execution_count": null,
   "metadata": {},
   "outputs": [],
   "source": []
  },
  {
   "cell_type": "code",
   "execution_count": null,
   "metadata": {},
   "outputs": [],
   "source": []
  }
 ],
 "metadata": {
  "kernelspec": {
   "display_name": "Python 3.7.7 64-bit ('ml': conda)",
   "language": "python",
   "name": "python37764bitmlcondaf22f2c0875804c018eabe3662a7c8e9b"
  },
  "language_info": {
   "codemirror_mode": {
    "name": "ipython",
    "version": 3
   },
   "file_extension": ".py",
   "mimetype": "text/x-python",
   "name": "python",
   "nbconvert_exporter": "python",
   "pygments_lexer": "ipython3",
   "version": "3.7.7"
  }
 },
 "nbformat": 4,
 "nbformat_minor": 4
}
