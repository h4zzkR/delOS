{
 "cells": [
  {
   "cell_type": "code",
   "execution_count": 1,
   "metadata": {},
   "outputs": [],
   "source": [
    "import os, sys; sys.path.append(os.path.dirname(os.getcwd())); ROOT_DIR = '/home/h4zzkr/lab/delOS/backend'"
   ]
  },
  {
   "cell_type": "code",
   "execution_count": 21,
   "metadata": {},
   "outputs": [],
   "source": [
    "dataset_path = os.path.join(ROOT_DIR, 'data/nlu_data/custom')"
   ]
  },
  {
   "cell_type": "markdown",
   "metadata": {},
   "source": [
    "# Imports"
   ]
  },
  {
   "cell_type": "code",
   "execution_count": 18,
   "metadata": {},
   "outputs": [],
   "source": [
    "import pandas as pd\n",
    "import numpy as np\n",
    "import tensorflow as tf\n",
    "from pathlib import Path\n",
    "\n",
    "from transformers import BertTokenizer\n",
    "from transformers import TFBertModel\n",
    "\n",
    "model_name = \"bert-base-cased\"\n",
    "tokenizer = BertTokenizer.from_pretrained(model_name)"
   ]
  },
  {
   "cell_type": "code",
   "execution_count": 22,
   "metadata": {
    "collapsed": true,
    "jupyter": {
     "outputs_hidden": true
    }
   },
   "outputs": [
    {
     "data": {
      "text/html": [
       "<div>\n",
       "<style scoped>\n",
       "    .dataframe tbody tr th:only-of-type {\n",
       "        vertical-align: middle;\n",
       "    }\n",
       "\n",
       "    .dataframe tbody tr th {\n",
       "        vertical-align: top;\n",
       "    }\n",
       "\n",
       "    .dataframe thead th {\n",
       "        text-align: right;\n",
       "    }\n",
       "</style>\n",
       "<table border=\"1\" class=\"dataframe\">\n",
       "  <thead>\n",
       "    <tr style=\"text-align: right;\">\n",
       "      <th></th>\n",
       "      <th>intent_label</th>\n",
       "      <th>words</th>\n",
       "      <th>word_labels</th>\n",
       "      <th>length</th>\n",
       "    </tr>\n",
       "  </thead>\n",
       "  <tbody>\n",
       "    <tr>\n",
       "      <th>0</th>\n",
       "      <td>turnLightOn</td>\n",
       "      <td>enable light in the bedroom</td>\n",
       "      <td>O O O O B-location:room</td>\n",
       "      <td>5</td>\n",
       "    </tr>\n",
       "    <tr>\n",
       "      <th>1</th>\n",
       "      <td>turnLightOn</td>\n",
       "      <td>the light has to be on first</td>\n",
       "      <td>O O O O O O O</td>\n",
       "      <td>7</td>\n",
       "    </tr>\n",
       "    <tr>\n",
       "      <th>2</th>\n",
       "      <td>turnLightOn</td>\n",
       "      <td>make some light in bathroom</td>\n",
       "      <td>O O O O B-location:room</td>\n",
       "      <td>5</td>\n",
       "    </tr>\n",
       "    <tr>\n",
       "      <th>3</th>\n",
       "      <td>turnLightOff</td>\n",
       "      <td>no lights on in the office</td>\n",
       "      <td>O O O O O B-location:room</td>\n",
       "      <td>6</td>\n",
       "    </tr>\n",
       "    <tr>\n",
       "      <th>4</th>\n",
       "      <td>turnLightOff</td>\n",
       "      <td>turn off the light</td>\n",
       "      <td>O O O O</td>\n",
       "      <td>4</td>\n",
       "    </tr>\n",
       "    <tr>\n",
       "      <th>5</th>\n",
       "      <td>turnLightOn</td>\n",
       "      <td>enable electric lights inside the office</td>\n",
       "      <td>O O O O O B-location:room</td>\n",
       "      <td>6</td>\n",
       "    </tr>\n",
       "    <tr>\n",
       "      <th>6</th>\n",
       "      <td>turnLightOff</td>\n",
       "      <td>turn off the house lights out in the attic</td>\n",
       "      <td>O O O O O O O O B-location:room</td>\n",
       "      <td>9</td>\n",
       "    </tr>\n",
       "    <tr>\n",
       "      <th>7</th>\n",
       "      <td>turnLightOff</td>\n",
       "      <td>turn off lights in kitchen and basement</td>\n",
       "      <td>O O O O B-location:room O B-location:room</td>\n",
       "      <td>7</td>\n",
       "    </tr>\n",
       "    <tr>\n",
       "      <th>8</th>\n",
       "      <td>turnLightOn</td>\n",
       "      <td>also enable lights within the lavatory</td>\n",
       "      <td>O O O O O B-location:room</td>\n",
       "      <td>6</td>\n",
       "    </tr>\n",
       "    <tr>\n",
       "      <th>9</th>\n",
       "      <td>turnLightOff</td>\n",
       "      <td>hey , shutdown the lights</td>\n",
       "      <td>O O O O O</td>\n",
       "      <td>5</td>\n",
       "    </tr>\n",
       "    <tr>\n",
       "      <th>10</th>\n",
       "      <td>turnLightOn</td>\n",
       "      <td>activate lightning in the bathroom</td>\n",
       "      <td>O O O O B-location:room</td>\n",
       "      <td>5</td>\n",
       "    </tr>\n",
       "    <tr>\n",
       "      <th>11</th>\n",
       "      <td>turnLightOn</td>\n",
       "      <td>make light</td>\n",
       "      <td>O O</td>\n",
       "      <td>2</td>\n",
       "    </tr>\n",
       "    <tr>\n",
       "      <th>12</th>\n",
       "      <td>turnLightOn</td>\n",
       "      <td>enable lights  and in the basement</td>\n",
       "      <td>O O O O O B-location:where_room</td>\n",
       "      <td>6</td>\n",
       "    </tr>\n",
       "    <tr>\n",
       "      <th>13</th>\n",
       "      <td>turnLightOff</td>\n",
       "      <td>turn off the overhead lights in the guest bedroom</td>\n",
       "      <td>O O O O O O O B-location:room I-location:room</td>\n",
       "      <td>9</td>\n",
       "    </tr>\n",
       "    <tr>\n",
       "      <th>14</th>\n",
       "      <td>turnLightOff</td>\n",
       "      <td>also disable lights in the dining room</td>\n",
       "      <td>O O O O O B-location:room I-location:room</td>\n",
       "      <td>7</td>\n",
       "    </tr>\n",
       "    <tr>\n",
       "      <th>15</th>\n",
       "      <td>turnLightOff</td>\n",
       "      <td>shutdown the illumination in bedroom</td>\n",
       "      <td>O O O O B-location:room</td>\n",
       "      <td>5</td>\n",
       "    </tr>\n",
       "    <tr>\n",
       "      <th>16</th>\n",
       "      <td>turnLightOn</td>\n",
       "      <td>turn back on lights in the loft</td>\n",
       "      <td>O O O O O O B-location:room</td>\n",
       "      <td>7</td>\n",
       "    </tr>\n",
       "    <tr>\n",
       "      <th>17</th>\n",
       "      <td>turnLightOff</td>\n",
       "      <td>light off</td>\n",
       "      <td>O O</td>\n",
       "      <td>2</td>\n",
       "    </tr>\n",
       "    <tr>\n",
       "      <th>18</th>\n",
       "      <td>turnLightOff</td>\n",
       "      <td>power off lights please</td>\n",
       "      <td>O O O O</td>\n",
       "      <td>4</td>\n",
       "    </tr>\n",
       "    <tr>\n",
       "      <th>19</th>\n",
       "      <td>turnLightOn</td>\n",
       "      <td>enable lights !</td>\n",
       "      <td>O O O</td>\n",
       "      <td>3</td>\n",
       "    </tr>\n",
       "    <tr>\n",
       "      <th>20</th>\n",
       "      <td>turnLightOn</td>\n",
       "      <td>turn the lights set in the kitchen</td>\n",
       "      <td>O O O O O O B-location:room</td>\n",
       "      <td>7</td>\n",
       "    </tr>\n",
       "    <tr>\n",
       "      <th>21</th>\n",
       "      <td>turnLightOff</td>\n",
       "      <td>disable the illumination in the kitchen please</td>\n",
       "      <td>O O O O O B-location:room O</td>\n",
       "      <td>7</td>\n",
       "    </tr>\n",
       "    <tr>\n",
       "      <th>22</th>\n",
       "      <td>turnLightOff</td>\n",
       "      <td>bedroom , lights off</td>\n",
       "      <td>B-location:room O O O</td>\n",
       "      <td>4</td>\n",
       "    </tr>\n",
       "    <tr>\n",
       "      <th>23</th>\n",
       "      <td>turnLightOff</td>\n",
       "      <td>i command you to turn off the lights in the to...</td>\n",
       "      <td>O O O O O O O O O O B-location:room</td>\n",
       "      <td>11</td>\n",
       "    </tr>\n",
       "    <tr>\n",
       "      <th>24</th>\n",
       "      <td>turnLightOff</td>\n",
       "      <td>turn off the lights next door</td>\n",
       "      <td>O O O O B-location:where_room I-location:where...</td>\n",
       "      <td>6</td>\n",
       "    </tr>\n",
       "    <tr>\n",
       "      <th>25</th>\n",
       "      <td>turnLightOff</td>\n",
       "      <td>system , turn off the lightning in the toilet</td>\n",
       "      <td>O O O O O O O O B-location:room</td>\n",
       "      <td>9</td>\n",
       "    </tr>\n",
       "    <tr>\n",
       "      <th>26</th>\n",
       "      <td>turnLightOff</td>\n",
       "      <td>cut the lights down in the house</td>\n",
       "      <td>O O O O O O B-location:room</td>\n",
       "      <td>7</td>\n",
       "    </tr>\n",
       "    <tr>\n",
       "      <th>27</th>\n",
       "      <td>turnLightOn</td>\n",
       "      <td>switched on light in the parking garage</td>\n",
       "      <td>O O O O O B-location:room I-location:room</td>\n",
       "      <td>7</td>\n",
       "    </tr>\n",
       "    <tr>\n",
       "      <th>28</th>\n",
       "      <td>turnLightOff</td>\n",
       "      <td>disable the house lights in across the garage</td>\n",
       "      <td>O O O O O O O B-location:room</td>\n",
       "      <td>8</td>\n",
       "    </tr>\n",
       "    <tr>\n",
       "      <th>29</th>\n",
       "      <td>turnLightOn</td>\n",
       "      <td>light on</td>\n",
       "      <td>O O</td>\n",
       "      <td>2</td>\n",
       "    </tr>\n",
       "    <tr>\n",
       "      <th>30</th>\n",
       "      <td>turnLightOn</td>\n",
       "      <td>turn on the bathroom light</td>\n",
       "      <td>O O O B-location:room O</td>\n",
       "      <td>5</td>\n",
       "    </tr>\n",
       "    <tr>\n",
       "      <th>31</th>\n",
       "      <td>turnLightOff</td>\n",
       "      <td>swtich the lounge's lights off please</td>\n",
       "      <td>O O B-location:room O O O</td>\n",
       "      <td>6</td>\n",
       "    </tr>\n",
       "    <tr>\n",
       "      <th>32</th>\n",
       "      <td>turnLightOff</td>\n",
       "      <td>turn off the lights upstairs in the bedroom</td>\n",
       "      <td>O O O O B-location:where_room O O B-location:room</td>\n",
       "      <td>8</td>\n",
       "    </tr>\n",
       "    <tr>\n",
       "      <th>33</th>\n",
       "      <td>turnLightOn</td>\n",
       "      <td>please make light here</td>\n",
       "      <td>O O O B-location:where_room</td>\n",
       "      <td>4</td>\n",
       "    </tr>\n",
       "    <tr>\n",
       "      <th>34</th>\n",
       "      <td>turnLightOff</td>\n",
       "      <td>can you turn off the light here</td>\n",
       "      <td>O O O O O O B-location:where_room</td>\n",
       "      <td>7</td>\n",
       "    </tr>\n",
       "    <tr>\n",
       "      <th>35</th>\n",
       "      <td>turnLightOff</td>\n",
       "      <td>turn off the bathroom lights</td>\n",
       "      <td>O O O B-location:room O</td>\n",
       "      <td>5</td>\n",
       "    </tr>\n",
       "    <tr>\n",
       "      <th>36</th>\n",
       "      <td>turnLightOn</td>\n",
       "      <td>swtich the garden's lights on</td>\n",
       "      <td>O O B-location:room O O</td>\n",
       "      <td>5</td>\n",
       "    </tr>\n",
       "    <tr>\n",
       "      <th>37</th>\n",
       "      <td>turnLightOn</td>\n",
       "      <td>turn on all emergency room lights in the garage</td>\n",
       "      <td>O O O O O O O O B-location:room</td>\n",
       "      <td>9</td>\n",
       "    </tr>\n",
       "    <tr>\n",
       "      <th>38</th>\n",
       "      <td>turnLightOn</td>\n",
       "      <td>give me some light in the garage</td>\n",
       "      <td>O O O O O O B-location:room</td>\n",
       "      <td>7</td>\n",
       "    </tr>\n",
       "    <tr>\n",
       "      <th>39</th>\n",
       "      <td>turnLightOff</td>\n",
       "      <td>turn off the lights at the stairs</td>\n",
       "      <td>O O O O O O B-location:room</td>\n",
       "      <td>7</td>\n",
       "    </tr>\n",
       "    <tr>\n",
       "      <th>40</th>\n",
       "      <td>turnLightOff</td>\n",
       "      <td>turn this fucking lights off !</td>\n",
       "      <td>O O O O O O</td>\n",
       "      <td>6</td>\n",
       "    </tr>\n",
       "  </tbody>\n",
       "</table>\n",
       "</div>"
      ],
      "text/plain": [
       "    intent_label                                              words  \\\n",
       "0    turnLightOn                        enable light in the bedroom   \n",
       "1    turnLightOn                       the light has to be on first   \n",
       "2    turnLightOn                        make some light in bathroom   \n",
       "3   turnLightOff                         no lights on in the office   \n",
       "4   turnLightOff                                 turn off the light   \n",
       "5    turnLightOn           enable electric lights inside the office   \n",
       "6   turnLightOff         turn off the house lights out in the attic   \n",
       "7   turnLightOff            turn off lights in kitchen and basement   \n",
       "8    turnLightOn             also enable lights within the lavatory   \n",
       "9   turnLightOff                          hey , shutdown the lights   \n",
       "10   turnLightOn                 activate lightning in the bathroom   \n",
       "11   turnLightOn                                         make light   \n",
       "12   turnLightOn                 enable lights  and in the basement   \n",
       "13  turnLightOff  turn off the overhead lights in the guest bedroom   \n",
       "14  turnLightOff             also disable lights in the dining room   \n",
       "15  turnLightOff               shutdown the illumination in bedroom   \n",
       "16   turnLightOn                    turn back on lights in the loft   \n",
       "17  turnLightOff                                          light off   \n",
       "18  turnLightOff                            power off lights please   \n",
       "19   turnLightOn                                    enable lights !   \n",
       "20   turnLightOn                 turn the lights set in the kitchen   \n",
       "21  turnLightOff     disable the illumination in the kitchen please   \n",
       "22  turnLightOff                               bedroom , lights off   \n",
       "23  turnLightOff  i command you to turn off the lights in the to...   \n",
       "24  turnLightOff                      turn off the lights next door   \n",
       "25  turnLightOff      system , turn off the lightning in the toilet   \n",
       "26  turnLightOff                   cut the lights down in the house   \n",
       "27   turnLightOn            switched on light in the parking garage   \n",
       "28  turnLightOff      disable the house lights in across the garage   \n",
       "29   turnLightOn                                           light on   \n",
       "30   turnLightOn                         turn on the bathroom light   \n",
       "31  turnLightOff              swtich the lounge's lights off please   \n",
       "32  turnLightOff        turn off the lights upstairs in the bedroom   \n",
       "33   turnLightOn                             please make light here   \n",
       "34  turnLightOff                    can you turn off the light here   \n",
       "35  turnLightOff                       turn off the bathroom lights   \n",
       "36   turnLightOn                      swtich the garden's lights on   \n",
       "37   turnLightOn    turn on all emergency room lights in the garage   \n",
       "38   turnLightOn                   give me some light in the garage   \n",
       "39  turnLightOff                  turn off the lights at the stairs   \n",
       "40  turnLightOff                     turn this fucking lights off !   \n",
       "\n",
       "                                          word_labels  length  \n",
       "0                             O O O O B-location:room       5  \n",
       "1                                       O O O O O O O       7  \n",
       "2                             O O O O B-location:room       5  \n",
       "3                           O O O O O B-location:room       6  \n",
       "4                                             O O O O       4  \n",
       "5                           O O O O O B-location:room       6  \n",
       "6                     O O O O O O O O B-location:room       9  \n",
       "7           O O O O B-location:room O B-location:room       7  \n",
       "8                           O O O O O B-location:room       6  \n",
       "9                                           O O O O O       5  \n",
       "10                            O O O O B-location:room       5  \n",
       "11                                                O O       2  \n",
       "12                    O O O O O B-location:where_room       6  \n",
       "13      O O O O O O O B-location:room I-location:room       9  \n",
       "14          O O O O O B-location:room I-location:room       7  \n",
       "15                            O O O O B-location:room       5  \n",
       "16                        O O O O O O B-location:room       7  \n",
       "17                                                O O       2  \n",
       "18                                            O O O O       4  \n",
       "19                                              O O O       3  \n",
       "20                        O O O O O O B-location:room       7  \n",
       "21                        O O O O O B-location:room O       7  \n",
       "22                              B-location:room O O O       4  \n",
       "23                O O O O O O O O O O B-location:room      11  \n",
       "24  O O O O B-location:where_room I-location:where...       6  \n",
       "25                    O O O O O O O O B-location:room       9  \n",
       "26                        O O O O O O B-location:room       7  \n",
       "27          O O O O O B-location:room I-location:room       7  \n",
       "28                      O O O O O O O B-location:room       8  \n",
       "29                                                O O       2  \n",
       "30                            O O O B-location:room O       5  \n",
       "31                          O O B-location:room O O O       6  \n",
       "32  O O O O B-location:where_room O O B-location:room       8  \n",
       "33                        O O O B-location:where_room       4  \n",
       "34                  O O O O O O B-location:where_room       7  \n",
       "35                            O O O B-location:room O       5  \n",
       "36                            O O B-location:room O O       5  \n",
       "37                    O O O O O O O O B-location:room       9  \n",
       "38                        O O O O O O B-location:room       7  \n",
       "39                        O O O O O O B-location:room       7  \n",
       "40                                        O O O O O O       6  "
      ]
     },
     "execution_count": 22,
     "metadata": {},
     "output_type": "execute_result"
    }
   ],
   "source": [
    "df_train = pd.read_csv(os.path.join(dataset_path, 'train.csv'))\n",
    "df_valid = pd.read_csv(os.path.join(dataset_path, 'valid.csv'))\n",
    "df_train"
   ]
  },
  {
   "cell_type": "code",
   "execution_count": 12,
   "metadata": {},
   "outputs": [
    {
     "data": {
      "text/html": [
       "<div>\n",
       "<style scoped>\n",
       "    .dataframe tbody tr th:only-of-type {\n",
       "        vertical-align: middle;\n",
       "    }\n",
       "\n",
       "    .dataframe tbody tr th {\n",
       "        vertical-align: top;\n",
       "    }\n",
       "\n",
       "    .dataframe thead th {\n",
       "        text-align: right;\n",
       "    }\n",
       "</style>\n",
       "<table border=\"1\" class=\"dataframe\">\n",
       "  <thead>\n",
       "    <tr style=\"text-align: right;\">\n",
       "      <th></th>\n",
       "      <th>words</th>\n",
       "      <th>word_labels</th>\n",
       "      <th>length</th>\n",
       "    </tr>\n",
       "    <tr>\n",
       "      <th>intent_label</th>\n",
       "      <th></th>\n",
       "      <th></th>\n",
       "      <th></th>\n",
       "    </tr>\n",
       "  </thead>\n",
       "  <tbody>\n",
       "    <tr>\n",
       "      <th>turnLightOff</th>\n",
       "      <td>23</td>\n",
       "      <td>23</td>\n",
       "      <td>23</td>\n",
       "    </tr>\n",
       "    <tr>\n",
       "      <th>turnLightOn</th>\n",
       "      <td>18</td>\n",
       "      <td>18</td>\n",
       "      <td>18</td>\n",
       "    </tr>\n",
       "  </tbody>\n",
       "</table>\n",
       "</div>"
      ],
      "text/plain": [
       "              words  word_labels  length\n",
       "intent_label                            \n",
       "turnLightOff     23           23      23\n",
       "turnLightOn      18           18      18"
      ]
     },
     "execution_count": 12,
     "metadata": {},
     "output_type": "execute_result"
    }
   ],
   "source": [
    "df_train.groupby(\"intent_label\").count()"
   ]
  },
  {
   "cell_type": "code",
   "execution_count": 24,
   "metadata": {},
   "outputs": [
    {
     "data": {
      "text/plain": [
       "('enable light in the bedroom',\n",
       " [101, 9396, 1609, 1107, 1103, 4255, 102],\n",
       " '[CLS] enable light in the bedroom [SEP]')"
      ]
     },
     "execution_count": 24,
     "metadata": {},
     "output_type": "execute_result"
    }
   ],
   "source": [
    "first_sentence = df_train.iloc[0][\"words\"]\n",
    "first_sentence, tokenizer.encode(first_sentence), tokenizer.decode(tokenizer.encode(first_sentence))"
   ]
  },
  {
   "cell_type": "code",
   "execution_count": 25,
   "metadata": {},
   "outputs": [
    {
     "data": {
      "image/png": "[encoded data removed]",
      "text/plain": [
       "<Figure size 432x288 with 1 Axes>"
      ]
     },
     "metadata": {
      "needs_background": "light"
     },
     "output_type": "display_data"
    }
   ],
   "source": [
    "import matplotlib.pyplot as plt\n",
    "\n",
    "train_sequence_lengths = [len(tokenizer.encode(text))\n",
    "                          for text in df_train[\"words\"]]\n",
    "plt.hist(train_sequence_lengths, bins=30)\n",
    "plt.title(f\"max sequence length: {max(train_sequence_lengths)}\");\n",
    "max_seq_len = max(train_sequence_lengths)"
   ]
  },
  {
   "cell_type": "code",
   "execution_count": 29,
   "metadata": {},
   "outputs": [],
   "source": [
    "import numpy as np\n",
    "\n",
    "\n",
    "def encode_dataset(tokenizer, text_sequences, max_length):\n",
    "    token_ids = np.zeros(shape=(len(text_sequences), max_length),\n",
    "                         dtype=np.int32)\n",
    "    for i, text_sequence in enumerate(text_sequences):\n",
    "        encoded = tokenizer.encode(text_sequence)\n",
    "        token_ids[i, 0:len(encoded)] = encoded\n",
    "    attention_masks = (token_ids != 0).astype(np.int32)\n",
    "    return {\"input_ids\": token_ids, \"attention_masks\": attention_masks}\n",
    "\n",
    "\n",
    "encoded_train = encode_dataset(tokenizer, df_train[\"words\"], max_seq_len + 2)\n",
    "encoded_valid = encode_dataset(tokenizer, df_valid[\"words\"], max_seq_len + 2)"
   ]
  },
  {
   "cell_type": "code",
   "execution_count": 35,
   "metadata": {},
   "outputs": [
    {
     "data": {
      "text/plain": [
       "{'turnLightOff': 0, 'turnLightOn': 1}"
      ]
     },
     "execution_count": 35,
     "metadata": {},
     "output_type": "execute_result"
    }
   ],
   "source": [
    "intent_names = Path(os.path.join(dataset_path, \"vocab.intent\")).read_text().split()\n",
    "intent_map = dict((label, idx) for idx, label in enumerate(intent_names))\n",
    "intent_map"
   ]
  },
  {
   "cell_type": "code",
   "execution_count": 36,
   "metadata": {},
   "outputs": [],
   "source": [
    "intent_train = df_train[\"intent_label\"].map(intent_map).values\n",
    "intent_valid = df_valid[\"intent_label\"].map(intent_map).values"
   ]
  },
  {
   "cell_type": "code",
   "execution_count": 31,
   "metadata": {},
   "outputs": [
    {
     "data": {
      "text/plain": [
       "{'turnLightOff': 0, 'turnLightOn': 1}"
      ]
     },
     "execution_count": 31,
     "metadata": {},
     "output_type": "execute_result"
    }
   ],
   "source": [
    "intent_names = Path(os.path.join(dataset_path, \"vocab.intent\")).read_text().split()\n",
    "intent_map = dict((label, idx) for idx, label in enumerate(intent_names))\n",
    "intent_map"
   ]
  },
  {
   "cell_type": "markdown",
   "metadata": {},
   "source": [
    "# Model"
   ]
  },
  {
   "cell_type": "code",
   "execution_count": 41,
   "metadata": {},
   "outputs": [],
   "source": [
    "import tensorflow as tf\n",
    "from transformers import TFBertModel\n",
    "from tensorflow.keras.layers import Dropout, Dense, GlobalAveragePooling1D\n",
    "from tensorflow.keras.optimizers import Adam\n",
    "from tensorflow.keras.losses import SparseCategoricalCrossentropy\n",
    "from tensorflow.keras.metrics import SparseCategoricalAccuracy\n",
    "from tensorflow.keras.activations import softmax"
   ]
  },
  {
   "cell_type": "code",
   "execution_count": 33,
   "metadata": {},
   "outputs": [
    {
     "name": "stderr",
     "output_type": "stream",
     "text": [
      "Some weights of the model checkpoint at bert-base-cased were not used when initializing TFBertModel: ['mlm___cls', 'nsp___cls']\n",
      "- This IS expected if you are initializing TFBertModel from the checkpoint of a model trained on another task or with another architecture (e.g. initializing a BertForSequenceClassification model from a BertForPretraining model).\n",
      "- This IS NOT expected if you are initializing TFBertModel from the checkpoint of a model that you expect to be exactly identical (initializing a BertForSequenceClassification model from a BertForSequenceClassification model).\n",
      "All the weights of TFBertModel were initialized from the model checkpoint at bert-base-cased.\n",
      "If your task is similar to the task the model of the ckeckpoint was trained on, you can already use TFBertModel for predictions without further training.\n"
     ]
    },
    {
     "name": "stdout",
     "output_type": "stream",
     "text": [
      "Model: \"tf_bert_model\"\n",
      "_________________________________________________________________\n",
      "Layer (type)                 Output Shape              Param #   \n",
      "=================================================================\n",
      "bert (TFBertMainLayer)       multiple                  108310272 \n",
      "=================================================================\n",
      "Total params: 108,310,272\n",
      "Trainable params: 108,310,272\n",
      "Non-trainable params: 0\n",
      "_________________________________________________________________\n"
     ]
    }
   ],
   "source": [
    "base_bert_model = TFBertModel.from_pretrained(\"bert-base-cased\")\n",
    "base_bert_model.summary()"
   ]
  },
  {
   "cell_type": "code",
   "execution_count": 76,
   "metadata": {},
   "outputs": [
    {
     "name": "stderr",
     "output_type": "stream",
     "text": [
      "Some weights of the model checkpoint at bert-base-cased were not used when initializing TFBertModel: ['mlm___cls', 'nsp___cls']\n",
      "- This IS expected if you are initializing TFBertModel from the checkpoint of a model trained on another task or with another architecture (e.g. initializing a BertForSequenceClassification model from a BertForPretraining model).\n",
      "- This IS NOT expected if you are initializing TFBertModel from the checkpoint of a model that you expect to be exactly identical (initializing a BertForSequenceClassification model from a BertForSequenceClassification model).\n",
      "All the weights of TFBertModel were initialized from the model checkpoint at bert-base-cased.\n",
      "If your task is similar to the task the model of the ckeckpoint was trained on, you can already use TFBertModel for predictions without further training.\n"
     ]
    }
   ],
   "source": [
    "class IntentClassificationModel(tf.keras.Model):\n",
    "\n",
    "    def __init__(self, intent_num_labels=None, model_name=\"bert-base-cased\",\n",
    "                 dropout_prob=0.1):\n",
    "        super().__init__(name=\"joint_intent_slot\")\n",
    "        self.bert = TFBertModel.from_pretrained(model_name)\n",
    "        self.bert.trainable = False\n",
    "        self.dropout = Dropout(dropout_prob)\n",
    "        self.intent_classifier = Dense(intent_num_labels)\n",
    "\n",
    "    def call(self, inputs, **kwargs):\n",
    "        sequence_output, sentence_emb = self.bert(inputs, **kwargs)\n",
    "        sentence_emb = self.dropout(sentence_emb,training=kwargs.get(\"training\", False))\n",
    "        intent_logits = self.intent_classifier(sentence_emb)\n",
    "        out = softmax(intent_logits)\n",
    "        return out\n",
    "\n",
    "\n",
    "intent_model = IntentClassificationModel(intent_num_labels=len(intent_map))"
   ]
  },
  {
   "cell_type": "code",
   "execution_count": 58,
   "metadata": {},
   "outputs": [],
   "source": [
    "optim = Adam(learning_rate=0.001, epsilon=1e-08)\n",
    "loss_f = SparseCategoricalCrossentropy(from_logits=False)\n",
    "metrics_f = [SparseCategoricalAccuracy('accuracy')]"
   ]
  },
  {
   "cell_type": "code",
   "execution_count": 59,
   "metadata": {},
   "outputs": [],
   "source": [
    "intent_model.compile(optimizer=optim,\n",
    "                     loss=loss_f,\n",
    "                     metrics=metrics_f\n",
    "                    )"
   ]
  },
  {
   "cell_type": "code",
   "execution_count": 75,
   "metadata": {},
   "outputs": [
    {
     "name": "stdout",
     "output_type": "stream",
     "text": [
      "Epoch 1/4\n",
      "3/3 [==============================] - 0s 51ms/step - loss: 0.7534 - accuracy: 0.4878 - val_loss: 0.6543 - val_accuracy: 0.6364\n",
      "Epoch 2/4\n",
      "3/3 [==============================] - 0s 52ms/step - loss: 0.6416 - accuracy: 0.6341 - val_loss: 0.6159 - val_accuracy: 0.7273\n",
      "Epoch 3/4\n",
      "3/3 [==============================] - 0s 60ms/step - loss: 0.6264 - accuracy: 0.6585 - val_loss: 0.7019 - val_accuracy: 0.5455\n",
      "Epoch 4/4\n",
      "3/3 [==============================] - 0s 58ms/step - loss: 0.6196 - accuracy: 0.7073 - val_loss: 0.8687 - val_accuracy: 0.2727\n"
     ]
    }
   ],
   "source": [
    "history = intent_model.fit(encoded_train, intent_train, epochs=4, batch_size=16,\n",
    "                           validation_data=(encoded_valid, intent_valid))"
   ]
  },
  {
   "cell_type": "markdown",
   "metadata": {},
   "source": [
    "# ELse"
   ]
  },
  {
   "cell_type": "code",
   "execution_count": 78,
   "metadata": {},
   "outputs": [
    {
     "name": "stdout",
     "output_type": "stream",
     "text": [
      "Collecting sklearn\n",
      "  Downloading sklearn-0.0.tar.gz (1.1 kB)\n",
      "Collecting scikit-learn\n",
      "  Downloading scikit_learn-0.23.1-cp37-cp37m-manylinux1_x86_64.whl (6.8 MB)\n",
      "\u001b[K     |████████████████████████████████| 6.8 MB 5.6 MB/s eta 0:00:01\n",
      "\u001b[?25hCollecting threadpoolctl>=2.0.0\n",
      "  Downloading threadpoolctl-2.1.0-py3-none-any.whl (12 kB)\n",
      "Requirement already satisfied: scipy>=0.19.1 in /home/h4zzkr/anaconda3/envs/ml/lib/python3.7/site-packages (from scikit-learn->sklearn) (1.4.1)\n",
      "Requirement already satisfied: numpy>=1.13.3 in /home/h4zzkr/anaconda3/envs/ml/lib/python3.7/site-packages (from scikit-learn->sklearn) (1.19.0)\n",
      "Requirement already satisfied: joblib>=0.11 in /home/h4zzkr/anaconda3/envs/ml/lib/python3.7/site-packages (from scikit-learn->sklearn) (0.16.0)\n",
      "Building wheels for collected packages: sklearn\n",
      "  Building wheel for sklearn (setup.py) ... \u001b[?25ldone\n",
      "\u001b[?25h  Created wheel for sklearn: filename=sklearn-0.0-py2.py3-none-any.whl size=1315 sha256=9689e09e81ea72b1d1793fa26c4252a3481f1587f6f49fd00ce965a5ee31b3c9\n",
      "  Stored in directory: /home/h4zzkr/.cache/pip/wheels/46/ef/c3/157e41f5ee1372d1be90b09f74f82b10e391eaacca8f22d33e\n",
      "Successfully built sklearn\n",
      "Installing collected packages: threadpoolctl, scikit-learn, sklearn\n",
      "Successfully installed scikit-learn-0.23.1 sklearn-0.0 threadpoolctl-2.1.0\n"
     ]
    }
   ],
   "source": [
    "!pip install sklearn"
   ]
  },
  {
   "cell_type": "code",
   "execution_count": 152,
   "metadata": {},
   "outputs": [
    {
     "name": "stderr",
     "output_type": "stream",
     "text": [
      "Some weights of the model checkpoint at bert-base-cased were not used when initializing TFBertModel: ['mlm___cls', 'nsp___cls']\n",
      "- This IS expected if you are initializing TFBertModel from the checkpoint of a model trained on another task or with another architecture (e.g. initializing a BertForSequenceClassification model from a BertForPretraining model).\n",
      "- This IS NOT expected if you are initializing TFBertModel from the checkpoint of a model that you expect to be exactly identical (initializing a BertForSequenceClassification model from a BertForSequenceClassification model).\n",
      "All the weights of TFBertModel were initialized from the model checkpoint at bert-base-cased.\n",
      "If your task is similar to the task the model of the ckeckpoint was trained on, you can already use TFBertModel for predictions without further training.\n",
      "Some weights of the model checkpoint at bert-base-cased were not used when initializing TFBertModel: ['mlm___cls', 'nsp___cls']\n",
      "- This IS expected if you are initializing TFBertModel from the checkpoint of a model trained on another task or with another architecture (e.g. initializing a BertForSequenceClassification model from a BertForPretraining model).\n",
      "- This IS NOT expected if you are initializing TFBertModel from the checkpoint of a model that you expect to be exactly identical (initializing a BertForSequenceClassification model from a BertForSequenceClassification model).\n",
      "All the weights of TFBertModel were initialized from the model checkpoint at bert-base-cased.\n",
      "If your task is similar to the task the model of the ckeckpoint was trained on, you can already use TFBertModel for predictions without further training.\n"
     ]
    }
   ],
   "source": [
    "class Encoder(tf.keras.Model):\n",
    "    def __init__(self, model_name=\"bert-base-cased\"):\n",
    "        super().__init__(name=\"\")\n",
    "        self.bert = TFBertModel.from_pretrained(model_name)\n",
    "\n",
    "    def call(self, inputs, **kwargs):\n",
    "        sequence_output, sentence_emb = self.bert(inputs, **kwargs)\n",
    "        return sentence_emb\n",
    "    \n",
    "class EncoderText(tf.keras.Model):\n",
    "    def __init__(self, model_name=\"bert-base-cased\"):\n",
    "        super().__init__(name=\"\")\n",
    "        self.tokenizer = BertTokenizer.from_pretrained(model_name)\n",
    "        self.bert = TFBertModel.from_pretrained(model_name)\n",
    "\n",
    "    def call(self, inputs, **kwargs):\n",
    "        inputs = tf.constant(self.tokenizer.encode(inp))[None, :]\n",
    "        sequence_output, sentence_emb = self.bert(inputs, **kwargs)\n",
    "        return sentence_emb\n",
    "\n",
    "encoder = Encoder()\n",
    "encodertext = EncoderText()"
   ]
  },
  {
   "cell_type": "code",
   "execution_count": 28,
   "metadata": {},
   "outputs": [],
   "source": [
    "from sklearn.model_selection import GridSearchCV\n",
    "from sklearn.linear_model import LogisticRegression\n",
    "from sklearn.metrics import accuracy_score"
   ]
  },
  {
   "cell_type": "code",
   "execution_count": 93,
   "metadata": {},
   "outputs": [],
   "source": [
    "en_train = encoder(encoded_train)\n",
    "en_valid = encoder(encoded_valid)"
   ]
  },
  {
   "cell_type": "code",
   "execution_count": 90,
   "metadata": {},
   "outputs": [
    {
     "data": {
      "text/plain": [
       "(TensorShape([41, 768]), (41,))"
      ]
     },
     "execution_count": 90,
     "metadata": {},
     "output_type": "execute_result"
    }
   ],
   "source": [
    "en_train.shape, intent_train.shape"
   ]
  },
  {
   "cell_type": "code",
   "execution_count": 32,
   "metadata": {},
   "outputs": [],
   "source": [
    "from sklearn.metrics import accuracy_score\n",
    "\n",
    "def accuracy(model, y_true, valid_data):\n",
    "    y_pred = np.argmax(model.predict_proba(valid_data), axis=1)\n",
    "    return accuracy_score(y_true, y_pred)"
   ]
  },
  {
   "cell_type": "code",
   "execution_count": 40,
   "metadata": {},
   "outputs": [
    {
     "name": "stderr",
     "output_type": "stream",
     "text": [
      "/home/h4zzkr/anaconda3/envs/ml/lib/python3.7/site-packages/sklearn/svm/_base.py:977: ConvergenceWarning: Liblinear failed to converge, increase the number of iterations.\n",
      "  \"the number of iterations.\", ConvergenceWarning)\n"
     ]
    },
    {
     "data": {
      "text/plain": [
       "LogisticRegression(C=1, max_iter=2, solver='liblinear')"
      ]
     },
     "execution_count": 40,
     "metadata": {},
     "output_type": "execute_result"
    }
   ],
   "source": [
    "m = LogisticRegression(\n",
    "    penalty='l2',\n",
    "    C=1,\n",
    "    solver='liblinear',\n",
    "    max_iter=2,\n",
    ")\n",
    "m.fit(train, intent_train)"
   ]
  },
  {
   "cell_type": "code",
   "execution_count": 42,
   "metadata": {},
   "outputs": [
    {
     "data": {
      "text/plain": [
       "0.9090909090909091"
      ]
     },
     "execution_count": 42,
     "metadata": {},
     "output_type": "execute_result"
    }
   ],
   "source": [
    "accuracy(m, intent_valid, valid)"
   ]
  },
  {
   "cell_type": "code",
   "execution_count": 43,
   "metadata": {},
   "outputs": [],
   "source": [
    "id2intent = {intent_map[k] : k for k in intent_map.keys()}"
   ]
  },
  {
   "cell_type": "code",
   "execution_count": null,
   "metadata": {},
   "outputs": [],
   "source": []
  },
  {
   "cell_type": "code",
   "execution_count": 49,
   "metadata": {},
   "outputs": [
    {
     "data": {
      "text/plain": [
       "'turnLightOff'"
      ]
     },
     "execution_count": 49,
     "metadata": {},
     "output_type": "execute_result"
    }
   ],
   "source": [
    "def test_output(inp, featurizer, model, intents_map):\n",
    "    inp = featurizer.encode(inp)\n",
    "    pred = np.argmax(model.predict_proba(inp), axis=1)[0]\n",
    "    return intents_map[pred]\n",
    "inp = 'disable the lights'\n",
    "test_output(inp, featurizer, m, id2intent)"
   ]
  },
  {
   "cell_type": "code",
   "execution_count": 180,
   "metadata": {},
   "outputs": [],
   "source": [
    "i1 = 'turn on lights'\n",
    "i2 = 'turn on lights'\n",
    "i1emb = np.array(encodertext(i1))\n",
    "i2emb = np.array(encodertext(i2))"
   ]
  },
  {
   "cell_type": "markdown",
   "metadata": {},
   "source": [
    "# A"
   ]
  },
  {
   "cell_type": "code",
   "execution_count": null,
   "metadata": {},
   "outputs": [
    {
     "name": "stderr",
     "output_type": "stream",
     "text": [
      " 45%|████▌     | 560M/1.24G [07:35<13:26, 848kB/s]  "
     ]
    }
   ],
   "source": [
    "from sentence_transformers import SentenceTransformer\n",
    "featurizer = SentenceTransformer('bert-large-nli-mean-tokens')"
   ]
  },
  {
   "cell_type": "code",
   "execution_count": 13,
   "metadata": {},
   "outputs": [],
   "source": [
    "i1 = 'turn on ights'\n",
    "i2 = 'disable lights'\n",
    "emb1, emb2 = featurizer.encode(i1), featurizer.encode(i2)"
   ]
  },
  {
   "cell_type": "code",
   "execution_count": 14,
   "metadata": {},
   "outputs": [],
   "source": [
    "from sklearn.metrics.pairwise import cosine_similarity"
   ]
  },
  {
   "cell_type": "code",
   "execution_count": 15,
   "metadata": {},
   "outputs": [
    {
     "data": {
      "text/plain": [
       "array([[0.7306787]], dtype=float32)"
      ]
     },
     "execution_count": 15,
     "metadata": {},
     "output_type": "execute_result"
    }
   ],
   "source": [
    "cosine_similarity(emb1, emb2)"
   ]
  },
  {
   "cell_type": "code",
   "execution_count": null,
   "metadata": {},
   "outputs": [],
   "source": []
  }
 ],
 "metadata": {
  "kernelspec": {
   "display_name": "Python 3.7.7 64-bit ('ml': conda)",
   "language": "python",
   "name": "python37764bitmlcondaf22f2c0875804c018eabe3662a7c8e9b"
  },
  "language_info": {
   "codemirror_mode": {
    "name": "ipython",
    "version": 3
   },
   "file_extension": ".py",
   "mimetype": "text/x-python",
   "name": "python",
   "nbconvert_exporter": "python",
   "pygments_lexer": "ipython3",
   "version": "3.7.7"
  }
 },
 "nbformat": 4,
 "nbformat_minor": 4
}
