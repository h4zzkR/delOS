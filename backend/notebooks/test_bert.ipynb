{
 "cells": [
  {
   "cell_type": "code",
   "execution_count": 1,
   "metadata": {},
   "outputs": [],
   "source": [
    "import tensorflow as tf\n",
    "from transformers import TFBertModel, BertTokenizer\n",
    "from tensorflow.keras.layers import Dropout, Dense, GlobalAveragePooling1D"
   ]
  },
  {
   "cell_type": "code",
   "execution_count": 2,
   "metadata": {},
   "outputs": [],
   "source": [
    "inp = 'turn off the fucking light please'"
   ]
  },
  {
   "cell_type": "code",
   "execution_count": 3,
   "metadata": {},
   "outputs": [],
   "source": [
    "model_name = \"bert-base-cased\"\n",
    "tokenizer = BertTokenizer.from_pretrained(model_name)"
   ]
  },
  {
   "cell_type": "code",
   "execution_count": 4,
   "metadata": {},
   "outputs": [
    {
     "data": {
      "text/plain": [
       "[101, 1885, 1228, 1103, 8750, 1609, 4268, 102]"
      ]
     },
     "execution_count": 4,
     "metadata": {},
     "output_type": "execute_result"
    }
   ],
   "source": [
    "tokenizer.encode(inp)"
   ]
  },
  {
   "cell_type": "code",
   "execution_count": 5,
   "metadata": {},
   "outputs": [
    {
     "name": "stderr",
     "output_type": "stream",
     "text": [
      "Some weights of the model checkpoint at bert-base-cased were not used when initializing TFBertModel: ['mlm___cls', 'nsp___cls']\n",
      "- This IS expected if you are initializing TFBertModel from the checkpoint of a model trained on another task or with another architecture (e.g. initializing a BertForSequenceClassification model from a BertForPretraining model).\n",
      "- This IS NOT expected if you are initializing TFBertModel from the checkpoint of a model that you expect to be exactly identical (initializing a BertForSequenceClassification model from a BertForSequenceClassification model).\n",
      "All the weights of TFBertModel were initialized from the model checkpoint at bert-base-cased.\n",
      "If your task is similar to the task the model of the ckeckpoint was trained on, you can already use TFBertModel for predictions without further training.\n"
     ]
    },
    {
     "name": "stdout",
     "output_type": "stream",
     "text": [
      "Model: \"tf_bert_model\"\n",
      "_________________________________________________________________\n",
      "Layer (type)                 Output Shape              Param #   \n",
      "=================================================================\n",
      "bert (TFBertMainLayer)       multiple                  108310272 \n",
      "=================================================================\n",
      "Total params: 108,310,272\n",
      "Trainable params: 108,310,272\n",
      "Non-trainable params: 0\n",
      "_________________________________________________________________\n"
     ]
    }
   ],
   "source": [
    "from transformers import TFBertModel\n",
    "\n",
    "base_bert_model = TFBertModel.from_pretrained(\"bert-base-cased\")\n",
    "base_bert_model.summary()"
   ]
  },
  {
   "cell_type": "code",
   "execution_count": 11,
   "metadata": {},
   "outputs": [],
   "source": [
    "inp2 = 'turn off off the fucking light please'"
   ]
  },
  {
   "cell_type": "code",
   "execution_count": 12,
   "metadata": {},
   "outputs": [
    {
     "data": {
      "text/plain": [
       "(array([[[ 0.371198  ,  0.3696224 ,  0.25625232, ...,  0.24602285,\n",
       "           0.47602597,  0.05093362]],\n",
       " \n",
       "        [[-0.47750214, -0.09132154, -0.19665337, ..., -0.27511945,\n",
       "           0.15225185,  0.871516  ]],\n",
       " \n",
       "        [[-0.74131274, -0.08902054, -0.78558373, ...,  0.01311357,\n",
       "           0.30869552,  0.45760328]],\n",
       " \n",
       "        ...,\n",
       " \n",
       "        [[ 0.29019377,  0.4982054 ,  0.47340438, ...,  0.14850023,\n",
       "           0.5591297 ,  0.06993482]],\n",
       " \n",
       "        [[ 0.36887667,  0.3726717 ,  0.25698712, ...,  0.24173726,\n",
       "           0.4760276 ,  0.0528638 ]],\n",
       " \n",
       "        [[ 0.36996222,  0.36731768,  0.24852875, ...,  0.24976547,\n",
       "           0.47255707,  0.04378318]]], dtype=float32),\n",
       " array([[-0.22683209,  0.5464915 ,  0.99768573, ...,  0.999697  ,\n",
       "         -0.815754  ,  0.99836254],\n",
       "        [-0.40892294,  0.29535544,  0.9979004 , ...,  0.9991229 ,\n",
       "          0.07021762,  0.99812853],\n",
       "        [-0.53957623,  0.3140151 ,  0.99546015, ...,  0.9991294 ,\n",
       "          0.7115999 ,  0.991421  ],\n",
       "        ...,\n",
       "        [-0.41386718,  0.6421641 ,  0.9993793 , ...,  0.9999227 ,\n",
       "         -0.92152977,  0.9994889 ],\n",
       "        [-0.22686557,  0.54714036,  0.9977008 , ...,  0.99969846,\n",
       "         -0.8176278 ,  0.99837613],\n",
       "        [-0.22301514,  0.54308105,  0.9975773 , ...,  0.99968207,\n",
       "         -0.81299704,  0.9983064 ]], dtype=float32))"
      ]
     },
     "execution_count": 12,
     "metadata": {},
     "output_type": "execute_result"
    }
   ],
   "source": [
    "base_bert_model.predict(tokenizer.encode(inp2))"
   ]
  }
 ],
 "metadata": {
  "kernelspec": {
   "display_name": "Python 3.7.7 64-bit ('ml': conda)",
   "language": "python",
   "name": "python37764bitmlcondaf22f2c0875804c018eabe3662a7c8e9b"
  },
  "language_info": {
   "codemirror_mode": {
    "name": "ipython",
    "version": 3
   },
   "file_extension": ".py",
   "mimetype": "text/x-python",
   "name": "python",
   "nbconvert_exporter": "python",
   "pygments_lexer": "ipython3",
   "version": "3.7.7"
  }
 },
 "nbformat": 4,
 "nbformat_minor": 4
}
