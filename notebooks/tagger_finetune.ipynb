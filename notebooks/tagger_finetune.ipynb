{
 "cells": [
  {
   "cell_type": "markdown",
   "metadata": {},
   "source": [
    "# 1"
   ]
  },
  {
   "cell_type": "code",
   "execution_count": 12,
   "metadata": {},
   "outputs": [],
   "source": [
    "import os, sys; sys.path.append(os.path.dirname(os.getcwd())); ROOT_DIR = '/home/h4zzkr/lab/delOS/'\n",
    "import pandas as pd\n",
    "import numpy as np\n",
    "from pathlib import Path\n",
    "from core.nlu.semantic_taggers.DefaultTagger.tagger import SemanticTagsExtractor as TaggerBox\n",
    "from core.nlu.tools.utils import DatasetLoader, encode_token_labels, encode_dataset\n",
    "from core.nlu.featurizers.transformer_featurizer import SentenceFeaturizer\n",
    "from tensorflow.keras.callbacks import ModelCheckpoint\n",
    "from tensorflow.keras.optimizers import Adam\n",
    "from tensorflow.keras.losses import SparseCategoricalCrossentropy\n",
    "from tensorflow.keras.metrics import SparseCategoricalAccuracy"
   ]
  },
  {
   "cell_type": "code",
   "execution_count": 20,
   "metadata": {},
   "outputs": [],
   "source": [
    "dataset_path = os.path.join(ROOT_DIR, 'data/nlu_data/custom')\n",
    "df_train = pd.read_csv(os.path.join(dataset_path, 'train.csv'))\n",
    "df_valid = pd.read_csv(os.path.join(dataset_path, 'valid.csv'))\n",
    "model_path = os.path.join(ROOT_DIR, 'core/nlu/semantic_taggers/DefaultTagger/big_model/')"
   ]
  },
  {
   "cell_type": "code",
   "execution_count": 3,
   "metadata": {},
   "outputs": [],
   "source": [
    "featurizer = SentenceFeaturizer()"
   ]
  },
  {
   "cell_type": "code",
   "execution_count": 4,
   "metadata": {},
   "outputs": [],
   "source": [
    "def encode_tokenize(seq, ft):\n",
    "    encoded = encode_dataset(ft, seq).tolist()\n",
    "    encoded = ft.encode(\n",
    "        encoded, output_value='token_embeddings', convert_to_numpy=True, is_pretokenized=True\n",
    "    )\n",
    "    return np.array(encoded)"
   ]
  },
  {
   "cell_type": "code",
   "execution_count": 26,
   "metadata": {},
   "outputs": [
    {
     "name": "stdout",
     "output_type": "stream",
     "text": [
      "Loading data...\n"
     ]
    }
   ],
   "source": [
    "d = DatasetLoader('data/nlu_data/custom', train_intents=False)\n",
    "df_train, df_valid, intent2id, id2intent, tag2id, id2tag = d.load_prepare_dataset()\n",
    "validate = True\n",
    "if df_valid is None:\n",
    "    validate = False\n",
    "encoded_seq_train = encode_tokenize(df_train['words'], featurizer)\n",
    "tag_train = encode_token_labels(df_train[\"words\"], df_train[\"word_labels\"], featurizer, tag2id)\n",
    "\n",
    "if validate:\n",
    "    encoded_seq_valid = encode_tokenize(df_valid['words'], featurizer)\n",
    "    tag_valid = encode_token_labels(\n",
    "        df_valid[\"words\"], df_valid[\"word_labels\"], featurizer, tag2id)"
   ]
  },
  {
   "cell_type": "code",
   "execution_count": 13,
   "metadata": {},
   "outputs": [],
   "source": [
    "for i in range(len(id2tag), 72):\n",
    "    id2tag.update({i : 'O'})"
   ]
  },
  {
   "cell_type": "code",
   "execution_count": 14,
   "metadata": {},
   "outputs": [],
   "source": [
    "tag_box = TaggerBox(id2tag, path2model=model_path)"
   ]
  },
  {
   "cell_type": "code",
   "execution_count": 15,
   "metadata": {},
   "outputs": [],
   "source": [
    "epochs = 100\n",
    "batch_size = 8\n",
    "\n",
    "opt = Adam(learning_rate=0.001, epsilon=1e-09)\n",
    "losses = [SparseCategoricalCrossentropy(from_logits=True)]\n",
    "\n",
    "metrics = [SparseCategoricalAccuracy('accuracy')]\n",
    "tag_box.model.compile(optimizer=opt, loss=losses, metrics=metrics)"
   ]
  },
  {
   "cell_type": "code",
   "execution_count": 16,
   "metadata": {
    "collapsed": true,
    "jupyter": {
     "outputs_hidden": true
    }
   },
   "outputs": [
    {
     "name": "stdout",
     "output_type": "stream",
     "text": [
      "Epoch 1/100\n",
      "7/7 [==============================] - 0s 20ms/step - loss: 0.7103 - accuracy: 0.8913 - val_loss: 0.2061 - val_accuracy: 0.9716\n",
      "Epoch 2/100\n",
      "7/7 [==============================] - 0s 8ms/step - loss: 0.2074 - accuracy: 0.9712 - val_loss: 0.1659 - val_accuracy: 0.9716\n",
      "Epoch 3/100\n",
      "7/7 [==============================] - 0s 8ms/step - loss: 0.1290 - accuracy: 0.9689 - val_loss: 0.1256 - val_accuracy: 0.9663\n",
      "Epoch 4/100\n",
      "7/7 [==============================] - 0s 9ms/step - loss: 0.1145 - accuracy: 0.9677 - val_loss: 0.0998 - val_accuracy: 0.9699\n",
      "Epoch 5/100\n",
      "7/7 [==============================] - 0s 9ms/step - loss: 0.0846 - accuracy: 0.9756 - val_loss: 0.0949 - val_accuracy: 0.9699\n",
      "Epoch 6/100\n",
      "7/7 [==============================] - 0s 9ms/step - loss: 0.0605 - accuracy: 0.9815 - val_loss: 0.0722 - val_accuracy: 0.9770\n",
      "Epoch 7/100\n",
      "7/7 [==============================] - 0s 9ms/step - loss: 0.0527 - accuracy: 0.9823 - val_loss: 0.0628 - val_accuracy: 0.9823\n",
      "Epoch 8/100\n",
      "7/7 [==============================] - 0s 8ms/step - loss: 0.0505 - accuracy: 0.9819 - val_loss: 0.0617 - val_accuracy: 0.9858\n",
      "Epoch 9/100\n",
      "7/7 [==============================] - 0s 8ms/step - loss: 0.0388 - accuracy: 0.9866 - val_loss: 0.0584 - val_accuracy: 0.9823\n",
      "Epoch 10/100\n",
      "7/7 [==============================] - 0s 8ms/step - loss: 0.0403 - accuracy: 0.9842 - val_loss: 0.0518 - val_accuracy: 0.9858\n",
      "Epoch 11/100\n",
      "7/7 [==============================] - 0s 7ms/step - loss: 0.0315 - accuracy: 0.9882 - val_loss: 0.0494 - val_accuracy: 0.9858\n",
      "Epoch 12/100\n",
      "7/7 [==============================] - 0s 7ms/step - loss: 0.0283 - accuracy: 0.9901 - val_loss: 0.0484 - val_accuracy: 0.9858\n",
      "Epoch 13/100\n",
      "7/7 [==============================] - 0s 9ms/step - loss: 0.0268 - accuracy: 0.9890 - val_loss: 0.0458 - val_accuracy: 0.9876\n",
      "Epoch 14/100\n",
      "7/7 [==============================] - 0s 10ms/step - loss: 0.0257 - accuracy: 0.9901 - val_loss: 0.0450 - val_accuracy: 0.9876\n",
      "Epoch 15/100\n",
      "7/7 [==============================] - 0s 9ms/step - loss: 0.0220 - accuracy: 0.9913 - val_loss: 0.0437 - val_accuracy: 0.9876\n",
      "Epoch 16/100\n",
      "7/7 [==============================] - 0s 8ms/step - loss: 0.0199 - accuracy: 0.9933 - val_loss: 0.0430 - val_accuracy: 0.9876\n",
      "Epoch 17/100\n",
      "7/7 [==============================] - 0s 7ms/step - loss: 0.0210 - accuracy: 0.9917 - val_loss: 0.0402 - val_accuracy: 0.9876\n",
      "Epoch 18/100\n",
      "7/7 [==============================] - 0s 8ms/step - loss: 0.0206 - accuracy: 0.9921 - val_loss: 0.0407 - val_accuracy: 0.9876\n",
      "Epoch 19/100\n",
      "7/7 [==============================] - 0s 8ms/step - loss: 0.0171 - accuracy: 0.9941 - val_loss: 0.0413 - val_accuracy: 0.9876\n",
      "Epoch 20/100\n",
      "7/7 [==============================] - 0s 9ms/step - loss: 0.0152 - accuracy: 0.9945 - val_loss: 0.0398 - val_accuracy: 0.9876\n",
      "Epoch 21/100\n",
      "7/7 [==============================] - 0s 8ms/step - loss: 0.0183 - accuracy: 0.9941 - val_loss: 0.0357 - val_accuracy: 0.9876\n",
      "Epoch 22/100\n",
      "7/7 [==============================] - 0s 8ms/step - loss: 0.0169 - accuracy: 0.9941 - val_loss: 0.0352 - val_accuracy: 0.9876\n",
      "Epoch 23/100\n",
      "7/7 [==============================] - 0s 8ms/step - loss: 0.0143 - accuracy: 0.9949 - val_loss: 0.0374 - val_accuracy: 0.9876\n",
      "Epoch 24/100\n",
      "7/7 [==============================] - 0s 7ms/step - loss: 0.0145 - accuracy: 0.9941 - val_loss: 0.0388 - val_accuracy: 0.9876\n",
      "Epoch 25/100\n",
      "7/7 [==============================] - 0s 8ms/step - loss: 0.0138 - accuracy: 0.9965 - val_loss: 0.0382 - val_accuracy: 0.9876\n",
      "Epoch 26/100\n",
      "7/7 [==============================] - 0s 7ms/step - loss: 0.0145 - accuracy: 0.9949 - val_loss: 0.0370 - val_accuracy: 0.9894\n",
      "Epoch 27/100\n",
      "7/7 [==============================] - 0s 8ms/step - loss: 0.0143 - accuracy: 0.9961 - val_loss: 0.0351 - val_accuracy: 0.9894\n",
      "Epoch 28/100\n",
      "7/7 [==============================] - 0s 7ms/step - loss: 0.0124 - accuracy: 0.9965 - val_loss: 0.0324 - val_accuracy: 0.9894\n",
      "Epoch 29/100\n",
      "7/7 [==============================] - 0s 8ms/step - loss: 0.0135 - accuracy: 0.9945 - val_loss: 0.0321 - val_accuracy: 0.9876\n",
      "Epoch 30/100\n",
      "7/7 [==============================] - 0s 8ms/step - loss: 0.0130 - accuracy: 0.9953 - val_loss: 0.0338 - val_accuracy: 0.9894\n",
      "Epoch 31/100\n",
      "7/7 [==============================] - 0s 9ms/step - loss: 0.0139 - accuracy: 0.9953 - val_loss: 0.0341 - val_accuracy: 0.9894\n",
      "Epoch 32/100\n",
      "7/7 [==============================] - 0s 8ms/step - loss: 0.0115 - accuracy: 0.9965 - val_loss: 0.0347 - val_accuracy: 0.9894\n",
      "Epoch 33/100\n",
      "7/7 [==============================] - 0s 10ms/step - loss: 0.0109 - accuracy: 0.9965 - val_loss: 0.0336 - val_accuracy: 0.9894\n",
      "Epoch 34/100\n",
      "7/7 [==============================] - 0s 9ms/step - loss: 0.0110 - accuracy: 0.9961 - val_loss: 0.0325 - val_accuracy: 0.9894\n",
      "Epoch 35/100\n",
      "7/7 [==============================] - 0s 8ms/step - loss: 0.0121 - accuracy: 0.9957 - val_loss: 0.0314 - val_accuracy: 0.9894\n",
      "Epoch 36/100\n",
      "7/7 [==============================] - 0s 8ms/step - loss: 0.0088 - accuracy: 0.9968 - val_loss: 0.0311 - val_accuracy: 0.9894\n",
      "Epoch 37/100\n",
      "7/7 [==============================] - 0s 7ms/step - loss: 0.0109 - accuracy: 0.9957 - val_loss: 0.0323 - val_accuracy: 0.9911\n",
      "Epoch 38/100\n",
      "7/7 [==============================] - 0s 8ms/step - loss: 0.0091 - accuracy: 0.9980 - val_loss: 0.0335 - val_accuracy: 0.9911\n",
      "Epoch 39/100\n",
      "7/7 [==============================] - 0s 8ms/step - loss: 0.0117 - accuracy: 0.9972 - val_loss: 0.0331 - val_accuracy: 0.9911\n",
      "Epoch 40/100\n",
      "7/7 [==============================] - 0s 8ms/step - loss: 0.0082 - accuracy: 0.9984 - val_loss: 0.0325 - val_accuracy: 0.9911\n",
      "Epoch 41/100\n",
      "7/7 [==============================] - 0s 8ms/step - loss: 0.0103 - accuracy: 0.9961 - val_loss: 0.0319 - val_accuracy: 0.9929\n",
      "Epoch 42/100\n",
      "7/7 [==============================] - 0s 10ms/step - loss: 0.0076 - accuracy: 0.9988 - val_loss: 0.0308 - val_accuracy: 0.9929\n",
      "Epoch 43/100\n",
      "7/7 [==============================] - 0s 8ms/step - loss: 0.0092 - accuracy: 0.9972 - val_loss: 0.0318 - val_accuracy: 0.9929\n",
      "Epoch 44/100\n",
      "7/7 [==============================] - 0s 8ms/step - loss: 0.0109 - accuracy: 0.9957 - val_loss: 0.0324 - val_accuracy: 0.9929\n",
      "Epoch 45/100\n",
      "7/7 [==============================] - 0s 7ms/step - loss: 0.0088 - accuracy: 0.9968 - val_loss: 0.0303 - val_accuracy: 0.9929\n",
      "Epoch 46/100\n",
      "7/7 [==============================] - 0s 8ms/step - loss: 0.0077 - accuracy: 0.9976 - val_loss: 0.0313 - val_accuracy: 0.9929\n",
      "Epoch 47/100\n",
      "7/7 [==============================] - 0s 9ms/step - loss: 0.0093 - accuracy: 0.9976 - val_loss: 0.0315 - val_accuracy: 0.9929\n",
      "Epoch 48/100\n",
      "7/7 [==============================] - 0s 8ms/step - loss: 0.0095 - accuracy: 0.9980 - val_loss: 0.0305 - val_accuracy: 0.9929\n",
      "Epoch 49/100\n",
      "7/7 [==============================] - 0s 9ms/step - loss: 0.0066 - accuracy: 0.9976 - val_loss: 0.0295 - val_accuracy: 0.9929\n",
      "Epoch 50/100\n",
      "7/7 [==============================] - 0s 8ms/step - loss: 0.0077 - accuracy: 0.9980 - val_loss: 0.0287 - val_accuracy: 0.9929\n",
      "Epoch 51/100\n",
      "7/7 [==============================] - 0s 10ms/step - loss: 0.0094 - accuracy: 0.9968 - val_loss: 0.0304 - val_accuracy: 0.9929\n",
      "Epoch 52/100\n",
      "7/7 [==============================] - 0s 7ms/step - loss: 0.0085 - accuracy: 0.9968 - val_loss: 0.0299 - val_accuracy: 0.9929\n",
      "Epoch 53/100\n",
      "7/7 [==============================] - 0s 8ms/step - loss: 0.0062 - accuracy: 0.9988 - val_loss: 0.0289 - val_accuracy: 0.9929\n",
      "Epoch 54/100\n",
      "7/7 [==============================] - 0s 8ms/step - loss: 0.0072 - accuracy: 0.9976 - val_loss: 0.0283 - val_accuracy: 0.9929\n",
      "Epoch 55/100\n",
      "7/7 [==============================] - 0s 9ms/step - loss: 0.0069 - accuracy: 0.9972 - val_loss: 0.0287 - val_accuracy: 0.9929\n",
      "Epoch 56/100\n",
      "7/7 [==============================] - 0s 9ms/step - loss: 0.0067 - accuracy: 0.9980 - val_loss: 0.0298 - val_accuracy: 0.9929\n",
      "Epoch 57/100\n",
      "7/7 [==============================] - 0s 8ms/step - loss: 0.0081 - accuracy: 0.9984 - val_loss: 0.0302 - val_accuracy: 0.9929\n",
      "Epoch 58/100\n",
      "7/7 [==============================] - 0s 8ms/step - loss: 0.0055 - accuracy: 0.9996 - val_loss: 0.0313 - val_accuracy: 0.9929\n",
      "Epoch 59/100\n",
      "7/7 [==============================] - 0s 8ms/step - loss: 0.0070 - accuracy: 0.9984 - val_loss: 0.0303 - val_accuracy: 0.9929\n",
      "Epoch 60/100\n",
      "7/7 [==============================] - 0s 7ms/step - loss: 0.0079 - accuracy: 0.9980 - val_loss: 0.0286 - val_accuracy: 0.9929\n",
      "Epoch 61/100\n",
      "7/7 [==============================] - 0s 9ms/step - loss: 0.0058 - accuracy: 0.9988 - val_loss: 0.0272 - val_accuracy: 0.9929\n",
      "Epoch 62/100\n",
      "7/7 [==============================] - 0s 8ms/step - loss: 0.0067 - accuracy: 0.9988 - val_loss: 0.0269 - val_accuracy: 0.9929\n",
      "Epoch 63/100\n",
      "7/7 [==============================] - 0s 8ms/step - loss: 0.0070 - accuracy: 0.9980 - val_loss: 0.0275 - val_accuracy: 0.9929\n",
      "Epoch 64/100\n",
      "7/7 [==============================] - 0s 8ms/step - loss: 0.0052 - accuracy: 0.9996 - val_loss: 0.0272 - val_accuracy: 0.9929\n",
      "Epoch 65/100\n",
      "7/7 [==============================] - 0s 7ms/step - loss: 0.0051 - accuracy: 0.9996 - val_loss: 0.0272 - val_accuracy: 0.9929\n",
      "Epoch 66/100\n",
      "7/7 [==============================] - 0s 8ms/step - loss: 0.0068 - accuracy: 0.9984 - val_loss: 0.0286 - val_accuracy: 0.9929\n",
      "Epoch 67/100\n",
      "7/7 [==============================] - 0s 8ms/step - loss: 0.0074 - accuracy: 0.9976 - val_loss: 0.0292 - val_accuracy: 0.9929\n",
      "Epoch 68/100\n",
      "7/7 [==============================] - 0s 8ms/step - loss: 0.0084 - accuracy: 0.9980 - val_loss: 0.0286 - val_accuracy: 0.9929\n",
      "Epoch 69/100\n",
      "7/7 [==============================] - 0s 8ms/step - loss: 0.0077 - accuracy: 0.9965 - val_loss: 0.0289 - val_accuracy: 0.9929\n",
      "Epoch 70/100\n",
      "7/7 [==============================] - 0s 10ms/step - loss: 0.0061 - accuracy: 0.9984 - val_loss: 0.0295 - val_accuracy: 0.9929\n",
      "Epoch 71/100\n",
      "7/7 [==============================] - 0s 8ms/step - loss: 0.0049 - accuracy: 0.9992 - val_loss: 0.0287 - val_accuracy: 0.9929\n",
      "Epoch 72/100\n",
      "7/7 [==============================] - 0s 7ms/step - loss: 0.0045 - accuracy: 0.9996 - val_loss: 0.0282 - val_accuracy: 0.9929\n",
      "Epoch 73/100\n",
      "7/7 [==============================] - 0s 8ms/step - loss: 0.0054 - accuracy: 0.9988 - val_loss: 0.0267 - val_accuracy: 0.9929\n",
      "Epoch 74/100\n",
      "7/7 [==============================] - 0s 8ms/step - loss: 0.0055 - accuracy: 0.9984 - val_loss: 0.0272 - val_accuracy: 0.9929\n",
      "Epoch 75/100\n",
      "7/7 [==============================] - 0s 8ms/step - loss: 0.0065 - accuracy: 0.9984 - val_loss: 0.0271 - val_accuracy: 0.9929\n",
      "Epoch 76/100\n",
      "7/7 [==============================] - 0s 9ms/step - loss: 0.0052 - accuracy: 0.9988 - val_loss: 0.0290 - val_accuracy: 0.9929\n",
      "Epoch 77/100\n",
      "7/7 [==============================] - 0s 8ms/step - loss: 0.0045 - accuracy: 0.9996 - val_loss: 0.0308 - val_accuracy: 0.9929\n",
      "Epoch 78/100\n",
      "7/7 [==============================] - 0s 9ms/step - loss: 0.0043 - accuracy: 0.9992 - val_loss: 0.0324 - val_accuracy: 0.9929\n",
      "Epoch 79/100\n",
      "7/7 [==============================] - 0s 7ms/step - loss: 0.0046 - accuracy: 0.9988 - val_loss: 0.0325 - val_accuracy: 0.9929\n",
      "Epoch 80/100\n",
      "7/7 [==============================] - 0s 9ms/step - loss: 0.0054 - accuracy: 0.9984 - val_loss: 0.0311 - val_accuracy: 0.9929\n",
      "Epoch 81/100\n",
      "7/7 [==============================] - 0s 8ms/step - loss: 0.0039 - accuracy: 0.9992 - val_loss: 0.0300 - val_accuracy: 0.9929\n",
      "Epoch 82/100\n",
      "7/7 [==============================] - 0s 9ms/step - loss: 0.0045 - accuracy: 1.0000 - val_loss: 0.0298 - val_accuracy: 0.9929\n",
      "Epoch 83/100\n",
      "7/7 [==============================] - 0s 9ms/step - loss: 0.0052 - accuracy: 0.9984 - val_loss: 0.0289 - val_accuracy: 0.9929\n",
      "Epoch 84/100\n",
      "7/7 [==============================] - 0s 9ms/step - loss: 0.0058 - accuracy: 0.9988 - val_loss: 0.0283 - val_accuracy: 0.9929\n",
      "Epoch 85/100\n",
      "7/7 [==============================] - 0s 9ms/step - loss: 0.0054 - accuracy: 0.9976 - val_loss: 0.0278 - val_accuracy: 0.9929\n",
      "Epoch 86/100\n",
      "7/7 [==============================] - 0s 8ms/step - loss: 0.0056 - accuracy: 0.9992 - val_loss: 0.0290 - val_accuracy: 0.9929\n",
      "Epoch 87/100\n",
      "7/7 [==============================] - 0s 8ms/step - loss: 0.0052 - accuracy: 0.9984 - val_loss: 0.0289 - val_accuracy: 0.9929\n",
      "Epoch 88/100\n",
      "7/7 [==============================] - 0s 9ms/step - loss: 0.0051 - accuracy: 0.9992 - val_loss: 0.0303 - val_accuracy: 0.9929\n",
      "Epoch 89/100\n",
      "7/7 [==============================] - 0s 10ms/step - loss: 0.0053 - accuracy: 0.9984 - val_loss: 0.0310 - val_accuracy: 0.9929\n",
      "Epoch 90/100\n",
      "7/7 [==============================] - 0s 9ms/step - loss: 0.0031 - accuracy: 1.0000 - val_loss: 0.0314 - val_accuracy: 0.9929\n",
      "Epoch 91/100\n",
      "7/7 [==============================] - 0s 9ms/step - loss: 0.0045 - accuracy: 0.9992 - val_loss: 0.0308 - val_accuracy: 0.9929\n",
      "Epoch 92/100\n",
      "7/7 [==============================] - 0s 8ms/step - loss: 0.0034 - accuracy: 0.9996 - val_loss: 0.0299 - val_accuracy: 0.9929\n",
      "Epoch 93/100\n",
      "7/7 [==============================] - 0s 8ms/step - loss: 0.0043 - accuracy: 0.9992 - val_loss: 0.0291 - val_accuracy: 0.9929\n",
      "Epoch 94/100\n",
      "7/7 [==============================] - 0s 7ms/step - loss: 0.0038 - accuracy: 0.9992 - val_loss: 0.0290 - val_accuracy: 0.9929\n",
      "Epoch 95/100\n",
      "7/7 [==============================] - 0s 8ms/step - loss: 0.0042 - accuracy: 0.9992 - val_loss: 0.0292 - val_accuracy: 0.9929\n",
      "Epoch 96/100\n",
      "7/7 [==============================] - 0s 7ms/step - loss: 0.0047 - accuracy: 0.9988 - val_loss: 0.0295 - val_accuracy: 0.9929\n",
      "Epoch 97/100\n",
      "7/7 [==============================] - 0s 7ms/step - loss: 0.0043 - accuracy: 0.9992 - val_loss: 0.0294 - val_accuracy: 0.9929\n",
      "Epoch 98/100\n",
      "7/7 [==============================] - 0s 7ms/step - loss: 0.0065 - accuracy: 0.9980 - val_loss: 0.0299 - val_accuracy: 0.9929\n",
      "Epoch 99/100\n",
      "7/7 [==============================] - 0s 9ms/step - loss: 0.0044 - accuracy: 0.9996 - val_loss: 0.0308 - val_accuracy: 0.9929\n",
      "Epoch 100/100\n",
      "7/7 [==============================] - 0s 7ms/step - loss: 0.0058 - accuracy: 0.9980 - val_loss: 0.0297 - val_accuracy: 0.9929\n"
     ]
    }
   ],
   "source": [
    "history = tag_box.model.fit(encoded_seq_train,\n",
    "                        tag_train, epochs=epochs, batch_size=batch_size,\n",
    "                        validation_data=(encoded_seq_valid, tag_valid), )\n",
    "#                         callbacks=cp_callback)"
   ]
  },
  {
   "cell_type": "code",
   "execution_count": 17,
   "metadata": {},
   "outputs": [],
   "source": [
    "text = 'enable lights in the bedroom'\n",
    "enc_seq, pool_out = featurizer.featurize(text)"
   ]
  },
  {
   "cell_type": "code",
   "execution_count": 18,
   "metadata": {},
   "outputs": [
    {
     "data": {
      "text/plain": [
       "array([6, 6, 6, 6, 0, 0, 0, 0, 0, 0, 0, 0, 0, 0, 0, 0, 0, 0, 0, 0, 0, 0,\n",
       "       0, 0, 0, 0, 0, 0, 0, 0, 0, 0, 0, 0, 0, 0, 0, 0, 0, 0, 0, 0, 0, 0,\n",
       "       0])"
      ]
     },
     "execution_count": 18,
     "metadata": {},
     "output_type": "execute_result"
    }
   ],
   "source": [
    "tags_classes = tag_box.tag(enc_seq)\n",
    "tag_ids = np.argmax(tags_classes, 1)[1:-1] # logits of tags\n",
    "tag_ids"
   ]
  },
  {
   "cell_type": "markdown",
   "metadata": {},
   "source": [
    "# 2"
   ]
  },
  {
   "cell_type": "code",
   "execution_count": 1,
   "metadata": {},
   "outputs": [
    {
     "name": "stdout",
     "output_type": "stream",
     "text": [
      "Collecting snips-nlu-parsers\n",
      "  Downloading snips_nlu_parsers-0.4.3-cp37-cp37m-manylinux1_x86_64.whl (6.8 MB)\n",
      "\u001b[K     |████████████████████████████████| 6.8 MB 818 kB/s eta 0:00:01     |███▋                            | 757 kB 818 kB/s eta 0:00:08\n",
      "\u001b[?25hCollecting future<0.18,>=0.16\n",
      "  Downloading future-0.17.1.tar.gz (829 kB)\n",
      "\u001b[K     |████████████████████████████████| 829 kB 13.8 MB/s eta 0:00:01\n",
      "\u001b[?25hBuilding wheels for collected packages: future\n",
      "  Building wheel for future (setup.py) ... \u001b[?25ldone\n",
      "\u001b[?25h  Created wheel for future: filename=future-0.17.1-py3-none-any.whl size=488732 sha256=26662b7432fc3dd046d951969ca2e1b754c73265dfa3ccf540bc3aeff810c6ca\n",
      "  Stored in directory: /home/h4zzkr/.cache/pip/wheels/16/4c/84/8a6161d44282ede60ed233d090156c6109a7ab865e49c1c9f6\n",
      "Successfully built future\n",
      "Installing collected packages: future, snips-nlu-parsers\n",
      "  Attempting uninstall: future\n",
      "    Found existing installation: future 0.18.2\n",
      "    Uninstalling future-0.18.2:\n",
      "      Successfully uninstalled future-0.18.2\n",
      "Successfully installed future-0.17.1 snips-nlu-parsers-0.4.3\n"
     ]
    }
   ],
   "source": [
    "!pip install snips-nlu-parsers"
   ]
  },
  {
   "cell_type": "code",
   "execution_count": 2,
   "metadata": {},
   "outputs": [],
   "source": [
    "from snips_nlu_parsers import BuiltinEntityParser\n",
    "import json\n",
    "parser = BuiltinEntityParser.build(language=\"en\")"
   ]
  },
  {
   "cell_type": "code",
   "execution_count": 33,
   "metadata": {},
   "outputs": [
    {
     "name": "stdout",
     "output_type": "stream",
     "text": [
      "CPU times: user 4 µs, sys: 1e+03 ns, total: 5 µs\n",
      "Wall time: 8.82 µs\n"
     ]
    },
    {
     "data": {
      "text/plain": [
       "[{'value': 'two',\n",
       "  'range': {'start': 23, 'end': 26},\n",
       "  'entity': {'kind': 'Number', 'value': 2.0},\n",
       "  'alternatives': [],\n",
       "  'entity_kind': 'snips/number'},\n",
       " {'value': 'tomorrow',\n",
       "  'range': {'start': 34, 'end': 42},\n",
       "  'entity': {'kind': 'InstantTime',\n",
       "   'value': '2020-07-31 00:00:00 +03:00',\n",
       "   'grain': 'Day',\n",
       "   'precision': 'Exact'},\n",
       "  'alternatives': [],\n",
       "  'entity_kind': 'snips/date'}]"
      ]
     },
     "execution_count": 33,
     "metadata": {},
     "output_type": "execute_result"
    }
   ],
   "source": [
    "%time\n",
    "parsing = parser.parse(\"Book me restaurant for two people tomorrow\")\n",
    "# print(json.dumps(parsing, indent=2))\n",
    "parsing"
   ]
  },
  {
   "cell_type": "code",
   "execution_count": 35,
   "metadata": {},
   "outputs": [],
   "source": [
    "def translate_entity(items):\n",
    "    entities_map = {\n",
    "    'snips/amountOfMoney' : '@amountOfMoney','snips/date' : '@date', \\\n",
    "        'snips/datePeriod' : '@datePeriod','snips/datetime' : '@datetime', \\\n",
    "        'snips/duration' : '@duration', 'snips/number' : '@number', \\\n",
    "        'snips/ordinal' : '@ordinal', 'snips/percentage' : '@percentage', \\\n",
    "        'snips/temperature' : '@temperature', 'snips/time' : '@time', \\\n",
    "        'snips/timePeriod' : '@timePeriod'\n",
    "    }\n",
    "    for i in range(len(items)):\n",
    "        items[i]['entity_kind'] = entities_map[items[i]['entity_kind']]\n",
    "    return items"
   ]
  },
  {
   "cell_type": "code",
   "execution_count": 34,
   "metadata": {},
   "outputs": [
    {
     "name": "stdout",
     "output_type": "stream",
     "text": [
      "CPU times: user 2 µs, sys: 1e+03 ns, total: 3 µs\n",
      "Wall time: 5.01 µs\n"
     ]
    },
    {
     "data": {
      "text/plain": [
       "[{'value': 'two',\n",
       "  'range': {'start': 23, 'end': 26},\n",
       "  'entity': {'kind': 'Number', 'value': 2.0},\n",
       "  'alternatives': [],\n",
       "  'entity_kind': '@number'},\n",
       " {'value': 'tomorrow',\n",
       "  'range': {'start': 34, 'end': 42},\n",
       "  'entity': {'kind': 'InstantTime',\n",
       "   'value': '2020-07-31 00:00:00 +03:00',\n",
       "   'grain': 'Day',\n",
       "   'precision': 'Exact'},\n",
       "  'alternatives': [],\n",
       "  'entity_kind': '@date'}]"
      ]
     },
     "execution_count": 34,
     "metadata": {},
     "output_type": "execute_result"
    }
   ],
   "source": [
    "%time\n",
    "translate_entity(parser.parse(\"Book me restaurant for two people tomorrow\"))"
   ]
  },
  {
   "cell_type": "code",
   "execution_count": 54,
   "metadata": {},
   "outputs": [],
   "source": [
    "from snips_nlu_parsers import BuiltinEntityParser\n",
    "\n",
    "class BuiltinEntityTagger():\n",
    "    \"\"\"\n",
    "    Huge respect to snips-nlu team for\n",
    "    https://github.com/snipsco/snips-nlu-ontology\n",
    "    \"\"\"\n",
    "    def __init__(self, lang='en'):\n",
    "        self.parser = BuiltinEntityParser.build(language=\"en\")\n",
    "        self.entities = {\n",
    "        'snips/amountOfMoney' : '@amountOfMoney','snips/date' : '@date', \\\n",
    "            'snips/datePeriod' : '@datePeriod','snips/datetime' : '@datetime', \\\n",
    "            'snips/duration' : '@duration', 'snips/number' : '@number', \\\n",
    "            'snips/ordinal' : '@ordinal', 'snips/percentage' : '@percentage', \\\n",
    "            'snips/temperature' : '@temperature', 'snips/time' : '@time', \\\n",
    "            'snips/timePeriod' : '@timePeriod'\n",
    "        }\n",
    "        \n",
    "    def translate_entity(self, items):\n",
    "        for i in range(len(items)):\n",
    "            items[i]['entity_kind'] = self.entities[items[i]['entity_kind']]\n",
    "        return items\n",
    "    \n",
    "    def parse(self, item, **kwargs):\n",
    "        return self.translate_entity(self.parser.parse(item))\n",
    "    \n",
    "    def get_all_grammar_entities(self):\n",
    "        return list(self.entities.values())"
   ]
  },
  {
   "cell_type": "code",
   "execution_count": 55,
   "metadata": {},
   "outputs": [
    {
     "data": {
      "text/plain": [
       "[{'value': '3.5 dollars',\n",
       "  'range': {'start': 13, 'end': 24},\n",
       "  'entity': {'kind': 'AmountOfMoney',\n",
       "   'value': 3.5,\n",
       "   'precision': 'Exact',\n",
       "   'unit': '$'},\n",
       "  'alternatives': [],\n",
       "  'entity_kind': '@amountOfMoney'}]"
      ]
     },
     "execution_count": 55,
     "metadata": {},
     "output_type": "execute_result"
    }
   ],
   "source": [
    "parser = BuiltinEntityTagger()\n",
    "parser.parse(\"Buy milk for 3.5 dollars\")"
   ]
  },
  {
   "cell_type": "code",
   "execution_count": 6,
   "metadata": {},
   "outputs": [],
   "source": [
    "import importlib"
   ]
  },
  {
   "cell_type": "code",
   "execution_count": 19,
   "metadata": {},
   "outputs": [
    {
     "data": {
      "text/plain": [
       "'/home/h4zzkr/lab/delOS'"
      ]
     },
     "execution_count": 19,
     "metadata": {},
     "output_type": "execute_result"
    }
   ],
   "source": [
    "os.path.dirname(os.getcwd())"
   ]
  },
  {
   "cell_type": "code",
   "execution_count": 25,
   "metadata": {},
   "outputs": [],
   "source": [
    "mymodule = importlib.import_module(f'core.nlu.semantic_taggers.BuiltinTagger.tagger')"
   ]
  },
  {
   "cell_type": "code",
   "execution_count": 5,
   "metadata": {},
   "outputs": [
    {
     "ename": "ModuleNotFoundError",
     "evalue": "No module named '/home/h4zzkr/lab/delOS/core/semantic_taggers/BuiltinTagger/tagger'",
     "output_type": "error",
     "traceback": [
      "\u001b[0;31m---------------------------------------------------------------------------\u001b[0m",
      "\u001b[0;31mModuleNotFoundError\u001b[0m                       Traceback (most recent call last)",
      "\u001b[0;32m<ipython-input-5-1371e3b261eb>\u001b[0m in \u001b[0;36m<module>\u001b[0;34m\u001b[0m\n\u001b[0;32m----> 1\u001b[0;31m \u001b[0mmodule\u001b[0m \u001b[0;34m=\u001b[0m \u001b[0m__import__\u001b[0m\u001b[0;34m(\u001b[0m\u001b[0;34m'/home/h4zzkr/lab/delOS/core/semantic_taggers/BuiltinTagger/tagger'\u001b[0m\u001b[0;34m)\u001b[0m\u001b[0;34m\u001b[0m\u001b[0;34m\u001b[0m\u001b[0m\n\u001b[0m",
      "\u001b[0;31mModuleNotFoundError\u001b[0m: No module named '/home/h4zzkr/lab/delOS/core/semantic_taggers/BuiltinTagger/tagger'"
     ]
    }
   ],
   "source": [
    "module = __import__('/home/h4zzkr/lab/delOS/core/semantic_taggers/BuiltinTagger/tagger')"
   ]
  }
 ],
 "metadata": {
  "kernelspec": {
   "display_name": "Python 3.7.7 64-bit ('ml': conda)",
   "language": "python",
   "name": "python37764bitmlcondaf22f2c0875804c018eabe3662a7c8e9b"
  },
  "language_info": {
   "codemirror_mode": {
    "name": "ipython",
    "version": 3
   },
   "file_extension": ".py",
   "mimetype": "text/x-python",
   "name": "python",
   "nbconvert_exporter": "python",
   "pygments_lexer": "ipython3",
   "version": "3.7.7"
  }
 },
 "nbformat": 4,
 "nbformat_minor": 4
}
